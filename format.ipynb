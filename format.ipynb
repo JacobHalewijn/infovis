{
 "cells": [
  {
   "cell_type": "markdown",
   "id": "3b46ee32",
   "metadata": {},
   "source": [
    "# Education and Happiness \n",
    "\n",
    "Student names: Stan Pieter van Kuik, Rafael Beekman\n",
    "\n",
    "Team number: C9"
   ]
  },
  {
   "cell_type": "code",
   "execution_count": 15,
   "id": "e180382e",
   "metadata": {
    "tags": [
     "hide-input"
    ]
   },
   "outputs": [
    {
     "data": {
      "text/html": [
       "<img src=\"https://cdn.cbs.nl/images/6d6937674277573235627978534b49652b6e323757513d3d/900x450.jpg\" width=\"600\" height=\"300\"/>"
      ],
      "text/plain": [
       "<IPython.core.display.Image object>"
      ]
     },
     "metadata": {},
     "output_type": "display_data"
    },
    {
     "name": "stdout",
     "output_type": "stream",
     "text": [
      "© Hollandse Hoogte / Peter Hilz\n"
     ]
    }
   ],
   "source": [
    "# Load image from link\n",
    "url = 'https://cdn.cbs.nl/images/6d6937674277573235627978534b49652b6e323757513d3d/900x450.jpg'\n",
    "\n",
    "# Display image from URL with smaller size and subtitle\n",
    "from IPython.display import Image, display\n",
    "\n",
    "# Set the desired image width and height\n",
    "width = 600\n",
    "height = 300\n",
    "\n",
    "# Set the subtitle text\n",
    "subtitle = \"Deze wordt nog vervangen\"\n",
    "\n",
    "# Create an Image instance with the URL\n",
    "image = Image(url=url, width=width, height=height)\n",
    "\n",
    "# Display the image and subtitle\n",
    "display(image)\n",
    "print(subtitle)"
   ]
  },
  {
   "cell_type": "markdown",
   "id": "7d5fce97-8e22-41ee-a19c-6c0f0fb2f08f",
   "metadata": {},
   "source": [
    "## Introduction"
   ]
  },
  {
   "cell_type": "markdown",
   "id": "7cf81853-c237-4df2-8ed4-9deae8423fb0",
   "metadata": {},
   "source": [
    "The relationship between happiness and education is a topic of increasing interest within the social sciences. Researchers and policymakers are trying to understand the extent to which education contributes to individual well-being and how happiness, in turn, affects the learning process. "
   ]
  },
  {
   "cell_type": "markdown",
   "id": "d9d4c934-c639-495f-a2bc-ed078e5659c3",
   "metadata": {},
   "source": [
    "## Dataset and Preprocessing"
   ]
  },
  {
   "cell_type": "markdown",
   "id": "850c1744-f4cc-4cc1-b0a7-9207c75837d8",
   "metadata": {},
   "source": [
    "First dataset- World Happiness Report 2021:\n",
    "this dataset can be found at the following web-address:\n",
    "https://www.kaggle.com/datasets/ajaypalsinghlo/world-happiness-report-2021 \n",
    "\n",
    "variables: \\\n",
    "Country name, name of the country \\\n",
    "Regional indicator, region the country belongs to \\\n",
    "ladder score, happiness score on a scale from 0 to 10 \\\n",
    "standard error of ladderscore, the standard error \\\n",
    "upperwhisker, the upper whisker \\\n",
    "lowerwhisker, the lower whisker \\\n",
    "logged GDP per capita, logaritm of the GDP per capita \\\n",
    "generosity, perceived generosity \\\n",
    "perception of corruption, the perceived corruption on a scale from 0 to 1 \\\n",
    "ladder score in dystopia, Compared to dystopia \\\n",
    "explained by: log GDP per capita, Compared to dystopia \\\n",
    "explained by: Social support, Compared to dystopia \\\n",
    "explained by: Healthy life expectancy, Compared to dystopia \\\n",
    "explained by: Freedom to make life choices, Compared to dystopia \\\n",
    "explained by: Generosity, Compared to dystopia \\\n",
    "explained by: Perceptions of corruption, Compared to dystopia\\\n",
    "Dystopia + residual, \\\n",
    "\n",
    "\n",
    "Second dataset- World Educational Data\n",
    "this dataset can be found at the following web-address:\n",
    "https://www.kaggle.com/datasets/nelgiriyewithana/world-educational-data/data \n",
    "\n",
    "variables:\n",
    "\n",
    "Countries and areas, name of the country or area \\\n",
    "OOSR_Pre0Primary_Age_Male, out-of-school rate for pre-primary age males \\\n",
    "OOSR_Pre0Primary_Age_Female, out-of-school rate for pre-primary age females \\\n",
    "OOSR_Primary_Age_Male, out-of-school rate for primary age males \\\n",
    "OOSR_Primary_Age_Female, out-of-school rate for primary age females \\\n",
    "OOSR_Lower_Secondary_Age_Male, out-of-school rate for lower secondary age males \\\n",
    "OOSR_Lower_Secondary_Age_Female, out-of-school rate for lower secondary age females \\\n",
    "OOSR_Upper_Secondary_Age_Male, out-of-school rate for upper secondary age males \\\n",
    "OOSR_Upper_Secondary_Age_Female, out-of-school rate for upper secondary age females \\\n",
    "Completion_Rate_Primary_Male, completion rate for primary education males \\\n",
    "Completion_Rate_Primary_Female, completion rate for primary education females \\\n",
    "Completion_Rate_Lower_Secondary_Male, completion rate for lower secondary education males \\\n",
    "Completion_Rate_Lower_Secondary_Female, completion rate for lower secondary education females \\\n",
    "Completion_Rate_Upper_Secondary_Male, completion rate for upper secondary education males \\\n",
    "Completion_Rate_Upper_Secondary_Female, completion rate for upper secondary education females \\\n",
    "Primary_End_Proficiency_Reading, proficiency in reading at the end of primary education \\\n",
    "Primary_End_Proficiency_Math, proficiency in math at the end of primary education \\\n",
    "Gross_Primary_Education_Enrollment, gross enrollment rate for primary education \\\n",
    "\n",
    "Dataset en preprocessing \\\n",
    "korte uitleg per dataset \\\n",
    "tabel maken van de variabelen per dataset \\\n",
    "welke variabele we gekozen hebben per dataset en hoe we ze gemerged hebben \\\n",
    "Bij world happiness hebben we gekozen voor de ladder score (happiness score) als algemene maatstaf die uit het world happiness report 2021 is gekomen\\\n",
    "verder hebben we gekozen voor log gdp per capita, social support, healthy life expectancy en freedom to make life choices als andere variabelen die los staan van de ladder score maar wel invloed hebben op het educatieniveau\\\n",
    "Bij world education hebben we gekozen om te focussen op secondary education (middelbare school/highschool).\\\n",
    "Hierbij kijken we naar de OOSR ofwel de drop out rate en completion rate van zowel mannen als vrouwen, reading proficiency and math proficiency.\\\n",
    "Hoe we dataset gemerged en gefilterd hebben. \\\n",
    "merge had stan pieter gedaan maar was volgens mij met country als ID en dan alleen de landen die bij beide databases horen.\\\n",
    "filter had ik gedaan maar daarvoor heb ik alleen lower en upper secondary voor male en female de drop out en completion samengevoegd en het gemiddelde genomen zodat we gwn een secondary hebben ipv lower en upper en dan de kolommen gefilterd op wat we nodig hadden en daar een CSV van gemaakt.\n"
   ]
  },
  {
   "cell_type": "markdown",
   "id": "d5010a07-96a0-45a7-ba76-250a56053f62",
   "metadata": {},
   "source": [
    "## Relationship Education and Happiness"
   ]
  },
  {
   "cell_type": "markdown",
   "id": "1f26b1fd",
   "metadata": {},
   "source": [
    "A commonly used argument for the link between happiness and education is that a higher level of education often leads to better economic opportunities and greater job satisfaction. Education provides individuals with the knowledge and skills needed to obtain better jobs, resulting in higher income and greater financial stability. This can, in turn, contribute to an increased sense of well-being and satisfaction. Moreover, education often offers more than just economic benefits; it also promotes personal development and social skills, which can lead to stronger social networks and a sense of purpose and connectedness, all factors that contribute to happiness."
   ]
  },
  {
   "cell_type": "markdown",
   "id": "a43c3ae1-48d8-4663-8525-7d92fae83483",
   "metadata": {},
   "source": [
    "### Completion rate and proficiency"
   ]
  },
  {
   "cell_type": "markdown",
   "id": "a44acbb2-6dbc-4cb9-ba26-7ba3fb19af5d",
   "metadata": {},
   "source": [
    "The first thing to look at if we want to know the relationship between happiness and education is the completion rate of school and the average proficiency in both math and reading. It is assumed that being well versed in these subjects allows one to have the opportunity to pursue the job they desire and enjoy, which in turn would make one happier overall. "
   ]
  },
  {
   "cell_type": "code",
   "execution_count": 2,
   "id": "806f67f3",
   "metadata": {},
   "outputs": [
    {
     "ename": "ModuleNotFoundError",
     "evalue": "No module named 'plotly'",
     "output_type": "error",
     "traceback": [
      "\u001b[1;31m---------------------------------------------------------------------------\u001b[0m",
      "\u001b[1;31mModuleNotFoundError\u001b[0m                       Traceback (most recent call last)",
      "Cell \u001b[1;32mIn[2], line 6\u001b[0m\n\u001b[0;32m      4\u001b[0m \u001b[38;5;28;01mimport\u001b[39;00m \u001b[38;5;21;01mseaborn\u001b[39;00m \u001b[38;5;28;01mas\u001b[39;00m \u001b[38;5;21;01msns\u001b[39;00m\n\u001b[0;32m      5\u001b[0m \u001b[38;5;28;01mfrom\u001b[39;00m \u001b[38;5;21;01mscipy\u001b[39;00m\u001b[38;5;21;01m.\u001b[39;00m\u001b[38;5;21;01mstats\u001b[39;00m \u001b[38;5;28;01mimport\u001b[39;00m pearsonr\n\u001b[1;32m----> 6\u001b[0m \u001b[38;5;28;01mimport\u001b[39;00m \u001b[38;5;21;01mplotly\u001b[39;00m\u001b[38;5;21;01m.\u001b[39;00m\u001b[38;5;21;01mexpress\u001b[39;00m \u001b[38;5;28;01mas\u001b[39;00m \u001b[38;5;21;01mpx\u001b[39;00m\n",
      "\u001b[1;31mModuleNotFoundError\u001b[0m: No module named 'plotly'"
     ]
    }
   ],
   "source": [
    "import pandas as pd\n",
    "import numpy as np\n",
    "import matplotlib.pyplot as plt\n",
    "import seaborn as sns\n",
    "from scipy.stats import pearsonr\n",
    "import plotly.express as px"
   ]
  },
  {
   "cell_type": "code",
   "execution_count": 3,
   "id": "0f5c8b36",
   "metadata": {},
   "outputs": [
    {
     "data": {
      "image/png": "[encoded data removed]",
      "text/plain": [
       "<Figure size 1200x800 with 1 Axes>"
      ]
     },
     "metadata": {},
     "output_type": "display_data"
    }
   ],
   "source": [
    "# Load the dfset\n",
    "file_path = 'filtered_global_education_world_happiness_average.csv'\n",
    "df = pd.read_csv(file_path)\n",
    "# Calculate the Average Completion Rate\n",
    "df['Average_Completion_Rate'] = df[['Average_Completion_Rate_Male', 'Average_Completion_Rate_Female']].mean(axis=1)\n",
    "\n",
    "# Filter out entries with 0 values in the Average Completion Rate\n",
    "filtered_data = df[df['Average_Completion_Rate'] != 0]\n",
    "\n",
    "# Calculate the Average Proficiency (Math and Reading)\n",
    "df['Average_Proficiency'] = df[['Lower_Secondary_End_Proficiency_Reading', 'Lower_Secondary_End_Proficiency_Math']].mean(axis=1)\n",
    "\n",
    "# Filter out entries with 0 values in the Average Proficiency\n",
    "filtered_proficiency_data = df[df['Average_Proficiency'] != 0]\n",
    "\n",
    "# Calculate Pearson correlation coefficients and p-values\n",
    "r_completion, p_value_completion = pearsonr(filtered_data['Average_Completion_Rate'], filtered_data['Ladder score'])\n",
    "r_proficiency, p_value_proficiency = pearsonr(filtered_proficiency_data['Average_Proficiency'], filtered_proficiency_data['Ladder score'])\n",
    "\n",
    "# Create a combined scatter plot with regression lines for both variables with improved aesthetics\n",
    "plt.figure(figsize=(12, 8))\n",
    "\n",
    "# Plot Average Completion Rate and Happiness\n",
    "sns.regplot(data=filtered_data, x='Average_Completion_Rate', y='Ladder score', \n",
    "            scatter_kws={'alpha': 0.5, 's': 60}, line_kws={'color': 'steelblue'}, \n",
    "            label='Average Completion Rate', color='skyblue')\n",
    "\n",
    "# Plot Average Proficiency and Happiness\n",
    "sns.regplot(data=filtered_proficiency_data, x='Average_Proficiency', y='Ladder score', \n",
    "            scatter_kws={'alpha': 0.5, 's': 60}, line_kws={'color': 'darkseagreen'}, \n",
    "            label='Average Proficiency (Math and Reading)', color='darkseagreen')\n",
    "\n",
    "# Add titles and labels with improved aesthetics\n",
    "plt.title('Relationship Between Education Metrics and Happiness', fontsize=16)\n",
    "plt.xlabel('Education Metrics', fontsize=14)\n",
    "plt.ylabel('Happiness (Ladder Score)', fontsize=14)\n",
    "plt.legend(fontsize=12)\n",
    "plt.grid(True, linestyle='--', alpha=0.7)\n",
    "\n",
    "# Set the style of the plot to improve aesthetics\n",
    "sns.set_style(\"whitegrid\")\n",
    "\n",
    "# Display correlation coefficients and p-values in the plot, aligned left and below the x-axis title\n",
    "plt.gca().text(-0.05, -0.2, \n",
    "            f'Pearson correlation: r = {r_completion:.2f}, p-value = {p_value_completion:.2e}\\n'\n",
    "            f'Pearson correlation: r = {r_proficiency:.2f}, p-value = {p_value_proficiency:.2e}',\n",
    "            fontsize=12, bbox=dict(facecolor='white', alpha=0.5), transform=plt.gca().transAxes, ha='left')\n",
    "\n",
    "plt.show()"
   ]
  },
  {
   "cell_type": "markdown",
   "id": "f07d4a62-ad4f-4fd3-84ad-3540363a03fb",
   "metadata": {},
   "source": [
    "> *Figure 1: Vivamus elementum semper nisi. Aenean vulputate eleifend tellus. Aenean leo ligula, porttitor eu, consequat vitae, eleifend ac, enim. Aliquam lorem ante, dapibus in, viverra quis, feugiat a, tellus.*   Hier moet nog een kleine beschrijving bij"
   ]
  },
  {
   "cell_type": "markdown",
   "id": "d42bd1f8",
   "metadata": {},
   "source": [
    "This scatter plot illustrates the relationship between education metrics and happiness, measured as a ladder score. Two sets of education metrics are plotted: the average completion rate (blue) and average proficiency in math and reading (green). Both variables show a positive correlation with happiness.\n",
    "\n",
    "The trend lines for both metrics slope upwards, indicating that higher education metrics are associated with higher happiness scores. The average proficiency in math and reading has a steeper slope compared to the completion rate, suggesting it might have a stronger correlation with happiness. Each data point represents a country's corresponding values for education metrics and happiness.\n",
    "\n",
    "The shading around the trend lines represents the confidence intervals, showing a reasonable level of uncertainty but a clear overall trend. This visualization underscores the importance of educational attainment and proficiency in contributing to overall happiness. The results suggest that improving education quality and completion rates could potentially enhance well-being and happiness across populations.\n",
    "\n",
    "However this only describes scores and the quality of the education but doesn’t entail whether these scores actually led to them completing their education or dropping out. \n"
   ]
  },
  {
   "cell_type": "markdown",
   "id": "e0a5e8f3-eed9-4965-a85d-05a296514ca0",
   "metadata": {},
   "source": [
    "### The Second Argument of Your First Perspective"
   ]
  },
  {
   "cell_type": "markdown",
   "id": "bb01e374",
   "metadata": {},
   "source": [
    "It va esser tam simplic quam Occidental in fact, it va esser Occidental. A un Angleso it va semblar un simplificat Angles, quam un skeptic Cambridge amico dit me que Occidental es. Li Europan lingues es membres del sam familie. Lor separat existentie es un myth. Por scientie, musica, sport etc, litot Europa usa li sam vocabular. Li lingues differe solmen in li grammatica, li pronunciation e li plu commun vocabules. Omnicos directe al desirabilite de un nov lingua franca: On refusa continuar payar custosi traductores. At solmen va esser necessi far uniform grammatica, pronunciation e plu sommun paroles."
   ]
  },
  {
   "cell_type": "code",
   "execution_count": 19,
   "id": "7de76f3d",
   "metadata": {
    "tags": [
     "hide-input"
    ]
   },
   "outputs": [
    {
     "name": "stderr",
     "output_type": "stream",
     "text": [
      "C:\\Users\\stanp\\AppData\\Local\\Temp\\ipykernel_9788\\3729267338.py:13: SettingWithCopyWarning:\n",
      "\n",
      "\n",
      "A value is trying to be set on a copy of a slice from a DataFrame.\n",
      "Try using .loc[row_indexer,col_indexer] = value instead\n",
      "\n",
      "See the caveats in the documentation: https://pandas.pydata.org/pandas-docs/stable/user_guide/indexing.html#returning-a-view-versus-a-copy\n",
      "\n",
      "C:\\Users\\stanp\\AppData\\Local\\Temp\\ipykernel_9788\\3729267338.py:17: FutureWarning:\n",
      "\n",
      "The default of observed=False is deprecated and will be changed to True in a future version of pandas. Pass observed=False to retain current behavior or observed=True to adopt the future default and silence this warning.\n",
      "\n"
     ]
    },
    {
     "data": {
      "image/png": "[encoded data removed]",
      "text/plain": [
       "<Figure size 1400x700 with 1 Axes>"
      ]
     },
     "metadata": {},
     "output_type": "display_data"
    }
   ],
   "source": [
    "import pandas as pd\n",
    "import matplotlib.pyplot as plt\n",
    "\n",
    "# Load the dataset\n",
    "file_path = 'filtered_global_education_world_happiness_average.csv'\n",
    "df = pd.read_csv(file_path)\n",
    "\n",
    "# Filter out countries with any zero values in the relevant columns\n",
    "filtered_data = df[(df['Lower_Secondary_End_Proficiency_Reading'] != 0) & \n",
    "                   (df['Lower_Secondary_End_Proficiency_Math'] != 0)]\n",
    "\n",
    "# Split the countries into three groups based on Ladder score using qcut\n",
    "filtered_data.loc[:, 'Ladder_Group'] = pd.qcut(filtered_data['Ladder score'], 3, labels=['Low', 'Medium', 'High'])\n",
    "\n",
    "# Select only the proficiency columns for grouping\n",
    "proficiency_cols = ['Lower_Secondary_End_Proficiency_Reading', 'Lower_Secondary_End_Proficiency_Math']\n",
    "grouped_data = filtered_data.groupby('Ladder_Group')[proficiency_cols].mean()\n",
    "\n",
    "# Prepare the data for plotting\n",
    "bar_data = grouped_data.T\n",
    "\n",
    "# Plot the data\n",
    "bar_data.plot(kind='bar', figsize=(14, 7))\n",
    "plt.title('Comparison of Proficiency in Reading and Math for Low, Medium, and High Ladder Score Groups')\n",
    "plt.xlabel('Proficiency Metrics')\n",
    "plt.ylabel('Values')\n",
    "plt.xticks(rotation=0)\n",
    "plt.legend(title='Ladder Score Group', bbox_to_anchor=(1.05, 1), loc='upper left')\n",
    "plt.tight_layout()\n",
    "\n",
    "# Show the plot\n",
    "plt.show()\n"
   ]
  },
  {
   "cell_type": "markdown",
   "id": "dbf82375-b2e8-4a22-b5a9-2c45b960d08a",
   "metadata": {},
   "source": [
    "> *Figure 3: Vivamus elementum semper nisi. Aenean vulputate eleifend tellus. Aenean leo ligula, porttitor eu, consequat vitae, eleifend ac, enim. Aliquam lorem ante, dapibus in, viverra quis, feugiat a, tellus.*"
   ]
  },
  {
   "cell_type": "markdown",
   "id": "c0bcecf9-e17c-477a-a229-55277d48fe64",
   "metadata": {},
   "source": [
    "This bar chart compares the proficiency in reading and math for lower secondary education among three groups categorized by their ladder scores: low, medium, and high. The proficiency metrics for reading and math are shown on the x-axis, while the y-axis represents the values of proficiency.\n",
    "\n",
    "From the chart, it is evident that both reading and math proficiency increase as the ladder score group improves. The low ladder score group (blue) consistently shows lower proficiency in both reading and math compared to the medium (orange) and high (green) ladder score groups. Specifically, the high ladder score group exhibits the highest proficiency in both subjects, with math proficiency reaching its peak.\n",
    "\n",
    "This visual representation suggests a positive correlation between educational proficiency and ladder scores, indicating that individuals with higher proficiency in reading and math tend to belong to higher ladder score groups. The results imply that enhancing educational outcomes, particularly in reading and math, might be linked to improved well-being and ladder scores, highlighting the significance of quality education in achieving higher happiness levels."
   ]
  },
  {
   "cell_type": "markdown",
   "id": "e1ec4c90-ccd9-4940-9a0e-18799c438ef5",
   "metadata": {},
   "source": [
    "## Relationship Social-economic factors and education"
   ]
  },
  {
   "cell_type": "markdown",
   "id": "005e94a9",
   "metadata": {},
   "source": [
    "Education has close ties with economic and social factors such as social support and GDP per capita. Firstly, a higher GDP per capita often means more government resources for education, resulting in better facilities, learning materials, and qualified teachers. Secondly, social support, such as scholarships and grants, reduces financial barriers, allowing more individuals to access education. Additionally, social support mechanisms foster an environment where students feel supported and motivated, enhancing their academic performance. All of this leads to a better-educated workforce, which in turn contributes to economic growth and social cohesion. In short, a strong synergy between education, economic prosperity, and social support creates a positive virtuous cycle of progress and development."
   ]
  },
  {
   "cell_type": "markdown",
   "id": "4a3eacb4-4812-474a-9900-71e2ac33cb5f",
   "metadata": {},
   "source": [
    "### The First Argument of Your Second Perspective"
   ]
  },
  {
   "cell_type": "markdown",
   "id": "62b3848e-5c37-482c-a584-c7c2a02a1e95",
   "metadata": {},
   "source": [
    "Phasellus viverra nulla ut metus varius laoreet. Quisque rutrum. Aenean imperdiet. Etiam ultricies nisi vel augue. Curabitur ullamcorper ultricies nisi. Nam eget dui. Etiam rhoncus. Maecenas tempus, tellus eget condimentum rhoncus, sem quam semper libero, sit amet adipiscing sem neque sed ipsum. Nam quam nunc, blandit vel, luctus pulvinar, hendrerit id, lorem. Maecenas nec odio et ante tincidunt tempus. Donec vitae sapien ut libero venenatis faucibus. Nullam quis ante. Etiam sit amet orci eget eros faucibus tincidunt. Duis leo. Sed fringilla mauris sit amet nibh. Donec sodales sagittis magna. Sed consequat, leo eget bibendum sodales, augue velit cursus nunc."
   ]
  },
  {
   "cell_type": "code",
   "execution_count": 20,
   "id": "982ff45f",
   "metadata": {
    "tags": [
     "hide-input"
    ]
   },
   "outputs": [
    {
     "name": "stderr",
     "output_type": "stream",
     "text": [
      "C:\\Users\\stanp\\AppData\\Local\\Temp\\ipykernel_9788\\1997824625.py:19: SettingWithCopyWarning:\n",
      "\n",
      "\n",
      "A value is trying to be set on a copy of a slice from a DataFrame.\n",
      "Try using .loc[row_indexer,col_indexer] = value instead\n",
      "\n",
      "See the caveats in the documentation: https://pandas.pydata.org/pandas-docs/stable/user_guide/indexing.html#returning-a-view-versus-a-copy\n",
      "\n"
     ]
    },
    {
     "data": {
      "application/vnd.plotly.v1+json": {
       "config": {
        "plotlyServerURL": "https://plot.ly"
       },
       "data": [
        {
         "hovertemplate": "<b>%{hovertext}</b><br><br>Average Completion Rate=%{x}<br>Average OOSR=%{y}<br>Normalized_Freedom=%{marker.size}<br>Social Support=%{marker.color}<extra></extra>",
         "hovertext": [
          "Afghanistan",
          "Albania",
          "Argentina",
          "Armenia",
          "Bangladesh",
          "Belarus",
          "Benin",
          "Bosnia and Herzegovina",
          "Brazil",
          "Burkina Faso",
          "Burundi",
          "Cambodia",
          "Cameroon",
          "Chad",
          "Chile",
          "Colombia",
          "Comoros",
          "Costa Rica",
          "Ivory Coast",
          "Dominican Republic",
          "Ecuador",
          "Egypt",
          "El Salvador",
          "Ethiopia",
          "Georgia",
          "Ghana",
          "Guatemala",
          "Guinea",
          "Honduras",
          "India",
          "Indonesia",
          "Jamaica",
          "Jordan",
          "Kyrgyzstan",
          "Laos",
          "Lesotho",
          "Liberia",
          "Madagascar",
          "Malawi",
          "Mali",
          "Mauritania",
          "Mexico",
          "Mongolia",
          "Montenegro",
          "Mozambique",
          "Myanmar",
          "Nepal",
          "Niger",
          "Panama",
          "Paraguay",
          "Peru",
          "Philippines",
          "Moldova",
          "Rwanda",
          "Serbia",
          "Sierra Leone",
          "South Africa",
          "Sri Lanka",
          "Thailand",
          "Togo",
          "Turkey",
          "Ukraine",
          "Tanzania",
          "Uruguay",
          "Yemen",
          "Zimbabwe"
         ],
         "legendgroup": "",
         "marker": {
          "color": [
           0.463,
           0.697,
           0.898,
           0.799,
           0.693,
           0.91,
           0.489,
           0.87,
           0.882,
           0.672,
           0.49,
           0.765,
           0.71,
           0.619,
           0.882,
           0.847,
           0.626,
           0.891,
           0.644,
           0.853,
           0.821,
           0.75,
           0.762,
           0.764,
           0.671,
           0.727,
           0.813,
           0.639,
           0.812,
           0.603,
           0.811,
           0.877,
           0.767,
           0.893,
           0.728,
           0.787,
           0.72,
           0.686,
           0.537,
           0.724,
           0.795,
           0.831,
           0.935,
           0.858,
           0.744,
           0.779,
           0.774,
           0.641,
           0.896,
           0.893,
           0.832,
           0.83,
           0.857,
           0.552,
           0.873,
           0.63,
           0.86,
           0.827,
           0.888,
           0.569,
           0.822,
           0.888,
           0.702,
           0.925,
           0.832,
           0.75
          ],
          "coloraxis": "coloraxis",
          "size": [
           0,
           0.6984402079722705,
           0.7729636048526863,
           0.7677642980935875,
           0.8578856152512999,
           0.46447140381282503,
           0.6499133448873484,
           0.5615251299826689,
           0.7313691507798962,
           0.5424610051993067,
           0.4228769497400347,
           1,
           0.6048526863084922,
           0.34142114384748695,
           0.6239168110918545,
           0.7885615251299827,
           0.2876949740034663,
           0.9566724436741769,
           0.6221837088388215,
           0.82842287694974,
           0.7972270363951474,
           0.636048526863085,
           0.8769497400346621,
           0.6412478336221837,
           0.6949740034662046,
           0.7365684575389949,
           0.9081455805892549,
           0.5459272097053726,
           0.8232235701906413,
           0.8856152512998268,
           0.8509532062391681,
           0.880415944540728,
           0.6464471403812826,
           0.9584055459272098,
           0.9150779896013866,
           0.5771230502599654,
           0.611785095320624,
           0.294627383015598,
           0.6897746967071058,
           0.5459272097053726,
           0.3102253032928944,
           0.8318890814558059,
           0.5649913344887348,
           0.5649913344887348,
           0.8665511265164645,
           0.856152512998267,
           0.6932409012131716,
           0.734835355285962,
           0.8492201039861352,
           0.856152512998267,
           0.7625649913344887,
           0.9272097053726172,
           0.7625649913344887,
           0.8925476603119585,
           0.68630849220104,
           0.5805892547660312,
           0.636048526863085,
           0.7954939341421143,
           0.8700173310225304,
           0.4107452339688042,
           0.33622183708838815,
           0.5927209705372617,
           0.7816291161178509,
           0.8908145580589255,
           0.38128249566724437,
           0.5112651646447142
          ],
          "sizemode": "area",
          "sizeref": 0.0025,
          "symbol": "circle"
         },
         "mode": "markers",
         "name": "",
         "orientation": "v",
         "showlegend": false,
         "type": "scatter",
         "x": [
          30,
          87.5,
          62,
          85.5,
          47,
          96,
          13.5,
          94,
          77.5,
          6.5,
          13,
          29.5,
          35.5,
          12,
          90,
          75,
          36.5,
          65.5,
          22,
          69.5,
          84,
          61,
          54,
          16.5,
          89,
          28.5,
          37,
          21.5,
          40,
          61.5,
          50,
          89,
          71,
          93,
          42.5,
          38,
          19.5,
          21,
          18,
          23.5,
          36.5,
          73,
          78,
          90.5,
          9.5,
          30.5,
          50,
          4.5,
          70,
          71.5,
          78.5,
          79.5,
          81.5,
          22.5,
          87.5,
          33.5,
          68,
          66,
          76,
          34,
          70.5,
          98,
          29,
          54,
          38.5,
          32
         ],
         "xaxis": "x",
         "y": [
          28,
          10.5,
          5,
          9.5,
          19,
          2.5,
          45,
          10,
          8.5,
          55.5,
          48.5,
          6.5,
          45,
          70,
          5,
          13,
          34.5,
          4,
          51,
          13.5,
          11.5,
          13,
          25.5,
          60.5,
          3.5,
          19,
          45.5,
          59.5,
          46.5,
          31,
          19.5,
          20.5,
          37,
          15,
          35.5,
          25,
          23,
          46.5,
          43.5,
          63.5,
          44.5,
          16.5,
          14,
          9,
          56,
          31.5,
          11,
          75.5,
          22.5,
          15.5,
          10.5,
          15.5,
          25,
          26.5,
          7,
          57,
          17.5,
          7.5,
          10,
          39,
          11.5,
          4,
          43,
          6,
          42.5,
          23.5
         ],
         "yaxis": "y"
        }
       ],
       "layout": {
        "coloraxis": {
         "colorbar": {
          "title": {
           "text": "Social Support"
          }
         },
         "colorscale": [
          [
           0,
           "rgb(165,0,38)"
          ],
          [
           0.1,
           "rgb(215,48,39)"
          ],
          [
           0.2,
           "rgb(244,109,67)"
          ],
          [
           0.3,
           "rgb(253,174,97)"
          ],
          [
           0.4,
           "rgb(254,224,139)"
          ],
          [
           0.5,
           "rgb(255,255,191)"
          ],
          [
           0.6,
           "rgb(217,239,139)"
          ],
          [
           0.7,
           "rgb(166,217,106)"
          ],
          [
           0.8,
           "rgb(102,189,99)"
          ],
          [
           0.9,
           "rgb(26,152,80)"
          ],
          [
           1,
           "rgb(0,104,55)"
          ]
         ]
        },
        "legend": {
         "itemsizing": "constant",
         "tracegroupgap": 0
        },
        "template": {
         "data": {
          "bar": [
           {
            "error_x": {
             "color": "#2a3f5f"
            },
            "error_y": {
             "color": "#2a3f5f"
            },
            "marker": {
             "line": {
              "color": "#E5ECF6",
              "width": 0.5
             },
             "pattern": {
              "fillmode": "overlay",
              "size": 10,
              "solidity": 0.2
             }
            },
            "type": "bar"
           }
          ],
          "barpolar": [
           {
            "marker": {
             "line": {
              "color": "#E5ECF6",
              "width": 0.5
             },
             "pattern": {
              "fillmode": "overlay",
              "size": 10,
              "solidity": 0.2
             }
            },
            "type": "barpolar"
           }
          ],
          "carpet": [
           {
            "aaxis": {
             "endlinecolor": "#2a3f5f",
             "gridcolor": "white",
             "linecolor": "white",
             "minorgridcolor": "white",
             "startlinecolor": "#2a3f5f"
            },
            "baxis": {
             "endlinecolor": "#2a3f5f",
             "gridcolor": "white",
             "linecolor": "white",
             "minorgridcolor": "white",
             "startlinecolor": "#2a3f5f"
            },
            "type": "carpet"
           }
          ],
          "choropleth": [
           {
            "colorbar": {
             "outlinewidth": 0,
             "ticks": ""
            },
            "type": "choropleth"
           }
          ],
          "contour": [
           {
            "colorbar": {
             "outlinewidth": 0,
             "ticks": ""
            },
            "colorscale": [
             [
              0,
              "#0d0887"
             ],
             [
              0.1111111111111111,
              "#46039f"
             ],
             [
              0.2222222222222222,
              "#7201a8"
             ],
             [
              0.3333333333333333,
              "#9c179e"
             ],
             [
              0.4444444444444444,
              "#bd3786"
             ],
             [
              0.5555555555555556,
              "#d8576b"
             ],
             [
              0.6666666666666666,
              "#ed7953"
             ],
             [
              0.7777777777777778,
              "#fb9f3a"
             ],
             [
              0.8888888888888888,
              "#fdca26"
             ],
             [
              1,
              "#f0f921"
             ]
            ],
            "type": "contour"
           }
          ],
          "contourcarpet": [
           {
            "colorbar": {
             "outlinewidth": 0,
             "ticks": ""
            },
            "type": "contourcarpet"
           }
          ],
          "heatmap": [
           {
            "colorbar": {
             "outlinewidth": 0,
             "ticks": ""
            },
            "colorscale": [
             [
              0,
              "#0d0887"
             ],
             [
              0.1111111111111111,
              "#46039f"
             ],
             [
              0.2222222222222222,
              "#7201a8"
             ],
             [
              0.3333333333333333,
              "#9c179e"
             ],
             [
              0.4444444444444444,
              "#bd3786"
             ],
             [
              0.5555555555555556,
              "#d8576b"
             ],
             [
              0.6666666666666666,
              "#ed7953"
             ],
             [
              0.7777777777777778,
              "#fb9f3a"
             ],
             [
              0.8888888888888888,
              "#fdca26"
             ],
             [
              1,
              "#f0f921"
             ]
            ],
            "type": "heatmap"
           }
          ],
          "heatmapgl": [
           {
            "colorbar": {
             "outlinewidth": 0,
             "ticks": ""
            },
            "colorscale": [
             [
              0,
              "#0d0887"
             ],
             [
              0.1111111111111111,
              "#46039f"
             ],
             [
              0.2222222222222222,
              "#7201a8"
             ],
             [
              0.3333333333333333,
              "#9c179e"
             ],
             [
              0.4444444444444444,
              "#bd3786"
             ],
             [
              0.5555555555555556,
              "#d8576b"
             ],
             [
              0.6666666666666666,
              "#ed7953"
             ],
             [
              0.7777777777777778,
              "#fb9f3a"
             ],
             [
              0.8888888888888888,
              "#fdca26"
             ],
             [
              1,
              "#f0f921"
             ]
            ],
            "type": "heatmapgl"
           }
          ],
          "histogram": [
           {
            "marker": {
             "pattern": {
              "fillmode": "overlay",
              "size": 10,
              "solidity": 0.2
             }
            },
            "type": "histogram"
           }
          ],
          "histogram2d": [
           {
            "colorbar": {
             "outlinewidth": 0,
             "ticks": ""
            },
            "colorscale": [
             [
              0,
              "#0d0887"
             ],
             [
              0.1111111111111111,
              "#46039f"
             ],
             [
              0.2222222222222222,
              "#7201a8"
             ],
             [
              0.3333333333333333,
              "#9c179e"
             ],
             [
              0.4444444444444444,
              "#bd3786"
             ],
             [
              0.5555555555555556,
              "#d8576b"
             ],
             [
              0.6666666666666666,
              "#ed7953"
             ],
             [
              0.7777777777777778,
              "#fb9f3a"
             ],
             [
              0.8888888888888888,
              "#fdca26"
             ],
             [
              1,
              "#f0f921"
             ]
            ],
            "type": "histogram2d"
           }
          ],
          "histogram2dcontour": [
           {
            "colorbar": {
             "outlinewidth": 0,
             "ticks": ""
            },
            "colorscale": [
             [
              0,
              "#0d0887"
             ],
             [
              0.1111111111111111,
              "#46039f"
             ],
             [
              0.2222222222222222,
              "#7201a8"
             ],
             [
              0.3333333333333333,
              "#9c179e"
             ],
             [
              0.4444444444444444,
              "#bd3786"
             ],
             [
              0.5555555555555556,
              "#d8576b"
             ],
             [
              0.6666666666666666,
              "#ed7953"
             ],
             [
              0.7777777777777778,
              "#fb9f3a"
             ],
             [
              0.8888888888888888,
              "#fdca26"
             ],
             [
              1,
              "#f0f921"
             ]
            ],
            "type": "histogram2dcontour"
           }
          ],
          "mesh3d": [
           {
            "colorbar": {
             "outlinewidth": 0,
             "ticks": ""
            },
            "type": "mesh3d"
           }
          ],
          "parcoords": [
           {
            "line": {
             "colorbar": {
              "outlinewidth": 0,
              "ticks": ""
             }
            },
            "type": "parcoords"
           }
          ],
          "pie": [
           {
            "automargin": true,
            "type": "pie"
           }
          ],
          "scatter": [
           {
            "fillpattern": {
             "fillmode": "overlay",
             "size": 10,
             "solidity": 0.2
            },
            "type": "scatter"
           }
          ],
          "scatter3d": [
           {
            "line": {
             "colorbar": {
              "outlinewidth": 0,
              "ticks": ""
             }
            },
            "marker": {
             "colorbar": {
              "outlinewidth": 0,
              "ticks": ""
             }
            },
            "type": "scatter3d"
           }
          ],
          "scattercarpet": [
           {
            "marker": {
             "colorbar": {
              "outlinewidth": 0,
              "ticks": ""
             }
            },
            "type": "scattercarpet"
           }
          ],
          "scattergeo": [
           {
            "marker": {
             "colorbar": {
              "outlinewidth": 0,
              "ticks": ""
             }
            },
            "type": "scattergeo"
           }
          ],
          "scattergl": [
           {
            "marker": {
             "colorbar": {
              "outlinewidth": 0,
              "ticks": ""
             }
            },
            "type": "scattergl"
           }
          ],
          "scattermapbox": [
           {
            "marker": {
             "colorbar": {
              "outlinewidth": 0,
              "ticks": ""
             }
            },
            "type": "scattermapbox"
           }
          ],
          "scatterpolar": [
           {
            "marker": {
             "colorbar": {
              "outlinewidth": 0,
              "ticks": ""
             }
            },
            "type": "scatterpolar"
           }
          ],
          "scatterpolargl": [
           {
            "marker": {
             "colorbar": {
              "outlinewidth": 0,
              "ticks": ""
             }
            },
            "type": "scatterpolargl"
           }
          ],
          "scatterternary": [
           {
            "marker": {
             "colorbar": {
              "outlinewidth": 0,
              "ticks": ""
             }
            },
            "type": "scatterternary"
           }
          ],
          "surface": [
           {
            "colorbar": {
             "outlinewidth": 0,
             "ticks": ""
            },
            "colorscale": [
             [
              0,
              "#0d0887"
             ],
             [
              0.1111111111111111,
              "#46039f"
             ],
             [
              0.2222222222222222,
              "#7201a8"
             ],
             [
              0.3333333333333333,
              "#9c179e"
             ],
             [
              0.4444444444444444,
              "#bd3786"
             ],
             [
              0.5555555555555556,
              "#d8576b"
             ],
             [
              0.6666666666666666,
              "#ed7953"
             ],
             [
              0.7777777777777778,
              "#fb9f3a"
             ],
             [
              0.8888888888888888,
              "#fdca26"
             ],
             [
              1,
              "#f0f921"
             ]
            ],
            "type": "surface"
           }
          ],
          "table": [
           {
            "cells": {
             "fill": {
              "color": "#EBF0F8"
             },
             "line": {
              "color": "white"
             }
            },
            "header": {
             "fill": {
              "color": "#C8D4E3"
             },
             "line": {
              "color": "white"
             }
            },
            "type": "table"
           }
          ]
         },
         "layout": {
          "annotationdefaults": {
           "arrowcolor": "#2a3f5f",
           "arrowhead": 0,
           "arrowwidth": 1
          },
          "autotypenumbers": "strict",
          "coloraxis": {
           "colorbar": {
            "outlinewidth": 0,
            "ticks": ""
           }
          },
          "colorscale": {
           "diverging": [
            [
             0,
             "#8e0152"
            ],
            [
             0.1,
             "#c51b7d"
            ],
            [
             0.2,
             "#de77ae"
            ],
            [
             0.3,
             "#f1b6da"
            ],
            [
             0.4,
             "#fde0ef"
            ],
            [
             0.5,
             "#f7f7f7"
            ],
            [
             0.6,
             "#e6f5d0"
            ],
            [
             0.7,
             "#b8e186"
            ],
            [
             0.8,
             "#7fbc41"
            ],
            [
             0.9,
             "#4d9221"
            ],
            [
             1,
             "#276419"
            ]
           ],
           "sequential": [
            [
             0,
             "#0d0887"
            ],
            [
             0.1111111111111111,
             "#46039f"
            ],
            [
             0.2222222222222222,
             "#7201a8"
            ],
            [
             0.3333333333333333,
             "#9c179e"
            ],
            [
             0.4444444444444444,
             "#bd3786"
            ],
            [
             0.5555555555555556,
             "#d8576b"
            ],
            [
             0.6666666666666666,
             "#ed7953"
            ],
            [
             0.7777777777777778,
             "#fb9f3a"
            ],
            [
             0.8888888888888888,
             "#fdca26"
            ],
            [
             1,
             "#f0f921"
            ]
           ],
           "sequentialminus": [
            [
             0,
             "#0d0887"
            ],
            [
             0.1111111111111111,
             "#46039f"
            ],
            [
             0.2222222222222222,
             "#7201a8"
            ],
            [
             0.3333333333333333,
             "#9c179e"
            ],
            [
             0.4444444444444444,
             "#bd3786"
            ],
            [
             0.5555555555555556,
             "#d8576b"
            ],
            [
             0.6666666666666666,
             "#ed7953"
            ],
            [
             0.7777777777777778,
             "#fb9f3a"
            ],
            [
             0.8888888888888888,
             "#fdca26"
            ],
            [
             1,
             "#f0f921"
            ]
           ]
          },
          "colorway": [
           "#636efa",
           "#EF553B",
           "#00cc96",
           "#ab63fa",
           "#FFA15A",
           "#19d3f3",
           "#FF6692",
           "#B6E880",
           "#FF97FF",
           "#FECB52"
          ],
          "font": {
           "color": "#2a3f5f"
          },
          "geo": {
           "bgcolor": "white",
           "lakecolor": "white",
           "landcolor": "#E5ECF6",
           "showlakes": true,
           "showland": true,
           "subunitcolor": "white"
          },
          "hoverlabel": {
           "align": "left"
          },
          "hovermode": "closest",
          "mapbox": {
           "style": "light"
          },
          "paper_bgcolor": "white",
          "plot_bgcolor": "#E5ECF6",
          "polar": {
           "angularaxis": {
            "gridcolor": "white",
            "linecolor": "white",
            "ticks": ""
           },
           "bgcolor": "#E5ECF6",
           "radialaxis": {
            "gridcolor": "white",
            "linecolor": "white",
            "ticks": ""
           }
          },
          "scene": {
           "xaxis": {
            "backgroundcolor": "#E5ECF6",
            "gridcolor": "white",
            "gridwidth": 2,
            "linecolor": "white",
            "showbackground": true,
            "ticks": "",
            "zerolinecolor": "white"
           },
           "yaxis": {
            "backgroundcolor": "#E5ECF6",
            "gridcolor": "white",
            "gridwidth": 2,
            "linecolor": "white",
            "showbackground": true,
            "ticks": "",
            "zerolinecolor": "white"
           },
           "zaxis": {
            "backgroundcolor": "#E5ECF6",
            "gridcolor": "white",
            "gridwidth": 2,
            "linecolor": "white",
            "showbackground": true,
            "ticks": "",
            "zerolinecolor": "white"
           }
          },
          "shapedefaults": {
           "line": {
            "color": "#2a3f5f"
           }
          },
          "ternary": {
           "aaxis": {
            "gridcolor": "white",
            "linecolor": "white",
            "ticks": ""
           },
           "baxis": {
            "gridcolor": "white",
            "linecolor": "white",
            "ticks": ""
           },
           "bgcolor": "#E5ECF6",
           "caxis": {
            "gridcolor": "white",
            "linecolor": "white",
            "ticks": ""
           }
          },
          "title": {
           "x": 0.05
          },
          "xaxis": {
           "automargin": true,
           "gridcolor": "white",
           "linecolor": "white",
           "ticks": "",
           "title": {
            "standoff": 15
           },
           "zerolinecolor": "white",
           "zerolinewidth": 2
          },
          "yaxis": {
           "automargin": true,
           "gridcolor": "white",
           "linecolor": "white",
           "ticks": "",
           "title": {
            "standoff": 15
           },
           "zerolinecolor": "white",
           "zerolinewidth": 2
          }
         }
        },
        "title": {
         "font": {
          "size": 16
         },
         "text": "Bubble Chart: Completion Rate and OOSR with Social Support as Bubble Size"
        },
        "xaxis": {
         "anchor": "y",
         "domain": [
          0,
          1
         ],
         "title": {
          "font": {
           "size": 14
          },
          "text": "Average Completion Rate"
         }
        },
        "yaxis": {
         "anchor": "x",
         "domain": [
          0,
          1
         ],
         "title": {
          "font": {
           "size": 14
          },
          "text": "Average OOSR"
         }
        }
       }
      }
     },
     "metadata": {},
     "output_type": "display_data"
    }
   ],
   "source": [
    "import pandas as pd\n",
    "import plotly.express as px\n",
    "\n",
    "# Load the dataset\n",
    "file_path = 'filtered_global_education_world_happiness_average.csv'\n",
    "df = pd.read_csv(file_path)\n",
    "\n",
    "# Calculate the Average Completion Rate\n",
    "df['Average_Completion_Rate'] = df[['Average_Completion_Rate_Male', 'Average_Completion_Rate_Female']].mean(axis=1)\n",
    "\n",
    "# Calculate the Average OOSR\n",
    "df['Average_OOSR'] = df[['Average_OOSR_Male', 'Average_OOSR_Female']].mean(axis=1)\n",
    "\n",
    "# Filter out entries with 0 values in both Completion Rate and OOSR\n",
    "filtered_proficiency_data = df[(df['Average_Completion_Rate'] != 0) & \n",
    "                               (df['Average_OOSR'] != 0)]\n",
    "\n",
    "# Normalize the 'Freedom to make life choices' for better size differentiation\n",
    "filtered_proficiency_data['Normalized_Freedom'] = (filtered_proficiency_data['Freedom to make life choices'] - filtered_proficiency_data['Freedom to make life choices'].min()) / \\\n",
    "                                                  (filtered_proficiency_data['Freedom to make life choices'].max() - filtered_proficiency_data['Freedom to make life choices'].min())\n",
    "\n",
    "# Create a bubble chart with normalized Freedom to make life choices for bubble sizes\n",
    "fig = px.scatter(filtered_proficiency_data, \n",
    "                 x='Average_Completion_Rate', \n",
    "                 y='Average_OOSR', \n",
    "                 size='Normalized_Freedom', \n",
    "                 color='Social support', \n",
    "                 hover_name='Country',\n",
    "                 title='Bubble Chart: Completion Rate and OOSR with Social Support as Bubble Size',\n",
    "                 labels={\n",
    "                     'Average_Completion_Rate': 'Average Completion Rate',\n",
    "                     'Average_OOSR': 'Average OOSR',\n",
    "                     'Social support': 'Social Support',\n",
    "                     'Ladder score': 'Happiness (Ladder Score)'\n",
    "                 },\n",
    "                 size_max=20,  # Adjust the size_max for desired effect\n",
    "                 color_continuous_scale='RdYlGn')  # Color scale from red to green\n",
    "\n",
    "fig.update_layout(title_font_size=16, xaxis_title_font_size=14, yaxis_title_font_size=14)\n",
    "fig.show()\n"
   ]
  },
  {
   "cell_type": "markdown",
   "id": "c3857f81-dcad-489c-a608-3f7f86e6a58e",
   "metadata": {},
   "source": [
    "> *Figure 4: Vivamus elementum semper nisi. Aenean vulputate eleifend tellus. Aenean leo ligula, porttitor eu, consequat vitae, eleifend ac, enim. Aliquam lorem ante, dapibus in, viverra quis, feugiat a, tellus.*"
   ]
  },
  {
   "cell_type": "markdown",
   "id": "52d494f5",
   "metadata": {},
   "source": [
    "The bubble chart visualizes the relationship between the average completion rate of education and the average out-of-school rate (OOSR) across various countries. Each bubble represents a country, with the bubble size normalized based on the \"Freedom to make life choices\" indicator and colored by the \"Social support\" indicator. \n",
    "\n",
    "From the chart you can observe that countries with higher average completion rates tend to have lower OOSR, indicating a positive correlation between education completion and student retention. Larger bubbles denote countries with higher levels of perceived freedom to make life choices. These countries often show better educational outcomes, suggesting that individual freedom could positively impact educational participation and completion. The color scale from red to green represents the level of social support, with greener hues indicating higher support. Countries with high social support generally exhibit better educational metrics, underscoring the importance of a supportive social environment for educational success.\n",
    "\n",
    "The inverse relationship between completion rates and OOSR is expected, as higher completion rates naturally imply fewer students dropping out. This reflects the effectiveness of educational systems in retaining students until the end of their secondary education. The size of the bubbles, which indicates the normalized level of freedom to make life choices, highlights the potential impact of personal autonomy on educational outcomes. Greater freedom allows individuals to pursue education according to their preferences and circumstances, likely leading to higher completion rates.The color coding emphasizes the critical role of social support in educational success. Countries with robust social support systems provide necessary resources and a conducive environment for students to complete their education, reducing dropout rates and improving overall educational attainment."
   ]
  },
  {
   "cell_type": "markdown",
   "id": "bf522e30-74ba-4774-a6a0-a94f3d827123",
   "metadata": {},
   "source": [
    "### The Second Argument of Your Second Perspective"
   ]
  },
  {
   "cell_type": "markdown",
   "id": "51f7128d-2dd5-42ff-a178-bd7d6457d749",
   "metadata": {},
   "source": [
    "Sed ut perspiciatis unde omnis iste natus error sit voluptatem accusantium doloremque laudantium, totam rem aperiam, eaque ipsa quae ab illo inventore veritatis et quasi architecto beatae vitae dicta sunt explicabo. Nemo enim ipsam voluptatem quia voluptas sit aspernatur aut odit aut fugit, sed quia consequuntur magni dolores eos qui ratione voluptatem sequi nesciunt."
   ]
  },
  {
   "cell_type": "code",
   "execution_count": 21,
   "id": "e6372635",
   "metadata": {
    "tags": [
     "hide-input"
    ]
   },
   "outputs": [
    {
     "name": "stdout",
     "output_type": "stream",
     "text": [
      "Pearson correlation between Average Completion Rate and Logged GDP per capita: r = 0.67, p-value = 3.05e-06\n",
      "Pearson correlation between Average Proficiency and Logged GDP per capita: r = 0.44, p-value = 5.65e-03\n",
      "Pearson correlation between Average Completion Rate and Healthy life expectancy: r = 0.47, p-value = 2.71e-03\n",
      "Pearson correlation between Average Proficiency and Healthy life expectancy: r = 0.59, p-value = 8.02e-05\n"
     ]
    },
    {
     "data": {
      "image/png": "[encoded data removed]",
      "text/plain": [
       "<Figure size 1800x800 with 2 Axes>"
      ]
     },
     "metadata": {},
     "output_type": "display_data"
    }
   ],
   "source": [
    "import pandas as pd\n",
    "import numpy as np\n",
    "import matplotlib.pyplot as plt\n",
    "import seaborn as sns\n",
    "from scipy.stats import pearsonr\n",
    "\n",
    "# Load the dataset\n",
    "file_path = 'filtered_global_education_world_happiness_average.csv'\n",
    "df = pd.read_csv(file_path)\n",
    "\n",
    "# Calculate the average completion rate\n",
    "df['Average_Completion_Rate'] = df[['Average_Completion_Rate_Male', 'Average_Completion_Rate_Female']].mean(axis=1)\n",
    "\n",
    "# Calculate the average proficiency\n",
    "df['Average_Proficiency'] = df[['Lower_Secondary_End_Proficiency_Reading', 'Lower_Secondary_End_Proficiency_Math']].mean(axis=1)\n",
    "\n",
    "# Filter out rows where 'Logged GDP per capita', 'Average_Completion_Rate', 'Average_Proficiency', and 'Healthy life expectancy' are 0\n",
    "filtered_data = df[(df['Logged GDP per capita'] != 0) & \n",
    "                   (df['Average_Completion_Rate'] != 0) & \n",
    "                   (df['Average_Proficiency'] != 0) & \n",
    "                   (df['Healthy life expectancy'] != 0)]\n",
    "\n",
    "# Create a combined plot\n",
    "fig, (ax1, ax2) = plt.subplots(1, 2, figsize=(18, 8))\n",
    "\n",
    "# Plot the relationship between Average Completion Rate and Logged GDP per capita\n",
    "sns.regplot(data=filtered_data, x='Average_Completion_Rate', y='Logged GDP per capita', \n",
    "            scatter_kws={'alpha': 0.6}, label='Completion Rate', color='b', ax=ax1)\n",
    "# Plot the relationship between Average Proficiency and Logged GDP per capita\n",
    "sns.regplot(data=filtered_data, x='Average_Proficiency', y='Logged GDP per capita', \n",
    "            scatter_kws={'alpha': 0.6}, label='Proficiency', color='g', ax=ax1)\n",
    "\n",
    "# Calculate Pearson correlation coefficients and p-values for Logged GDP per capita\n",
    "r_completion_gdp, p_value_completion_gdp = pearsonr(filtered_data['Average_Completion_Rate'], filtered_data['Logged GDP per capita'])\n",
    "r_proficiency_gdp, p_value_proficiency_gdp = pearsonr(filtered_data['Average_Proficiency'], filtered_data['Logged GDP per capita'])\n",
    "\n",
    "# Print correlation results for the first plot\n",
    "print(f'Pearson correlation between Average Completion Rate and Logged GDP per capita: r = {r_completion_gdp:.2f}, p-value = {p_value_completion_gdp:.2e}')\n",
    "print(f'Pearson correlation between Average Proficiency and Logged GDP per capita: r = {r_proficiency_gdp:.2f}, p-value = {p_value_proficiency_gdp:.2e}')\n",
    "\n",
    "# Add titles and labels for the first plot\n",
    "ax1.set_title('Relationship Between Education Metrics and Logged GDP per capita')\n",
    "ax1.set_xlabel('Average Completion Rate / Average Proficiency')\n",
    "ax1.set_ylabel('Logged GDP per capita')\n",
    "ax1.legend()\n",
    "\n",
    "# Create the second plot: Relationship between Education Metrics and Healthy life expectancy\n",
    "# Plot the relationship between Average Completion Rate and Healthy life expectancy\n",
    "sns.regplot(data=filtered_data, x='Average_Completion_Rate', y='Healthy life expectancy', \n",
    "            scatter_kws={'alpha': 0.6}, label='Completion Rate', color='b', ax=ax2)\n",
    "# Plot the relationship between Average Proficiency and Healthy life expectancy\n",
    "sns.regplot(data=filtered_data, x='Average_Proficiency', y='Healthy life expectancy', \n",
    "            scatter_kws={'alpha': 0.6}, label='Proficiency', color='g', ax=ax2)\n",
    "\n",
    "# Calculate Pearson correlation coefficients and p-values for Healthy life expectancy\n",
    "r_completion_life, p_value_completion_life = pearsonr(filtered_data['Average_Completion_Rate'], filtered_data['Healthy life expectancy'])\n",
    "r_proficiency_life, p_value_proficiency_life = pearsonr(filtered_data['Average_Proficiency'], filtered_data['Healthy life expectancy'])\n",
    "\n",
    "# Print correlation results for the second plot\n",
    "print(f'Pearson correlation between Average Completion Rate and Healthy life expectancy: r = {r_completion_life:.2f}, p-value = {p_value_completion_life:.2e}')\n",
    "print(f'Pearson correlation between Average Proficiency and Healthy life expectancy: r = {r_proficiency_life:.2f}, p-value = {p_value_proficiency_life:.2e}')\n",
    "\n",
    "# Add titles and labels for the second plot\n",
    "ax2.set_title('Relationship Between Education Metrics and Healthy life expectancy')\n",
    "ax2.set_xlabel('Average Completion Rate / Average Proficiency')\n",
    "ax2.set_ylabel('Healthy life expectancy')\n",
    "ax2.legend()\n",
    "\n",
    "# Show plots\n",
    "plt.tight_layout()\n",
    "plt.grid(True)\n",
    "plt.show()\n"
   ]
  },
  {
   "cell_type": "markdown",
   "id": "84271e8b-3cdf-4cad-b78e-f536ff980cba",
   "metadata": {},
   "source": [
    "> *Figure 5: Vivamus elementum semper nisi. Aenean vulputate eleifend tellus. Aenean leo ligula, porttitor eu, consequat vitae, eleifend ac, enim. Aliquam lorem ante, dapibus in, viverra quis, feugiat a, tellus.*"
   ]
  },
  {
   "cell_type": "markdown",
   "id": "9bb2eaaf",
   "metadata": {},
   "source": [
    "In enim justo, rhoncus ut, imperdiet a, venenatis vitae, justo. Nullam dictum felis eu pede mollis pretium. Integer tincidunt. Cras dapibus. Vivamus elementum semper nisi. Aenean vulputate eleifend tellus. Aenean leo ligula, porttitor eu, consequat vitae, eleifend ac, enim. Aliquam lorem ante, dapibus in, viverra quis, feugiat a, tellus."
   ]
  },
  {
   "cell_type": "code",
   "execution_count": 22,
   "id": "3966ea55",
   "metadata": {
    "tags": [
     "hide-input"
    ]
   },
   "outputs": [
    {
     "data": {
      "application/vnd.plotly.v1+json": {
       "config": {
        "plotlyServerURL": "https://plot.ly"
       },
       "data": [
        {
         "colorbar": {
          "title": {
           "text": "Ladder score"
          }
         },
         "colorscale": [
          [
           0,
           "rgb(165,0,38)"
          ],
          [
           0.1,
           "rgb(215,48,39)"
          ],
          [
           0.2,
           "rgb(244,109,67)"
          ],
          [
           0.3,
           "rgb(253,174,97)"
          ],
          [
           0.4,
           "rgb(254,224,139)"
          ],
          [
           0.5,
           "rgb(255,255,191)"
          ],
          [
           0.6,
           "rgb(217,239,139)"
          ],
          [
           0.7,
           "rgb(166,217,106)"
          ],
          [
           0.8,
           "rgb(102,189,99)"
          ],
          [
           0.9,
           "rgb(26,152,80)"
          ],
          [
           1,
           "rgb(0,104,55)"
          ]
         ],
         "locationmode": "country names",
         "locations": [
          "Afghanistan",
          "Albania",
          "Algeria",
          "Argentina",
          "Armenia",
          "Australia",
          "Austria",
          "Azerbaijan",
          "Bahrain",
          "Bangladesh",
          "Belarus",
          "Belgium",
          "Benin",
          "Bolivia",
          "Bosnia and Herzegovina",
          "Botswana",
          "Brazil",
          "Bulgaria",
          "Burkina Faso",
          "Burundi",
          "Cambodia",
          "Cameroon",
          "Canada",
          "Chad",
          "Chile",
          "China",
          "Colombia",
          "Comoros",
          "Costa Rica",
          "Ivory Coast",
          "Croatia",
          "Cyprus",
          "Czech Republic",
          "Denmark",
          "Dominican Republic",
          "Ecuador",
          "Egypt",
          "El Salvador",
          "Estonia",
          "Ethiopia",
          "Finland",
          "France",
          "Gabon",
          "Georgia",
          "Germany",
          "Ghana",
          "Greece",
          "Guatemala",
          "Guinea",
          "Haiti",
          "Honduras",
          "Hungary",
          "Iceland",
          "India",
          "Indonesia",
          "Iran",
          "Iraq",
          "Israel",
          "Italy",
          "Jamaica",
          "Japan",
          "Jordan",
          "Kazakhstan",
          "Kenya",
          "Kuwait",
          "Kyrgyzstan",
          "Laos",
          "Latvia",
          "Lebanon",
          "Lesotho",
          "Liberia",
          "Libya",
          "Lithuania",
          "Luxembourg",
          "Madagascar",
          "Malawi",
          "Malaysia",
          "Maldives",
          "Mali",
          "Malta",
          "Mauritania",
          "Mauritius",
          "Mexico",
          "Mongolia",
          "Montenegro",
          "Morocco",
          "Mozambique",
          "Myanmar",
          "Namibia",
          "Nepal",
          "Netherlands",
          "New Zealand",
          "Nicaragua",
          "Niger",
          "Nigeria",
          "North Macedonia",
          "Norway",
          "Pakistan",
          "Panama",
          "Paraguay",
          "Peru",
          "Philippines",
          "Poland",
          "Portugal",
          "South Korea",
          "Moldova",
          "Romania",
          "Russia",
          "Rwanda",
          "Saudi Arabia",
          "Senegal",
          "Serbia",
          "Sierra Leone",
          "Singapore",
          "Slovakia",
          "Slovenia",
          "South Africa",
          "Spain",
          "Sri Lanka",
          "Sweden",
          "Switzerland",
          "Tajikistan",
          "Thailand",
          "Togo",
          "Tunisia",
          "Turkey",
          "Turkmenistan",
          "Uganda",
          "Ukraine",
          "United Arab Emirates",
          "United Kingdom",
          "Tanzania",
          "United States",
          "Uruguay",
          "Uzbekistan",
          "Venezuela",
          "Vietnam",
          "Yemen",
          "Zambia",
          "Zimbabwe"
         ],
         "type": "choropleth",
         "visible": true,
         "z": [
          2.523,
          5.117,
          4.887,
          5.929,
          5.283,
          7.183,
          7.268,
          5.171,
          6.647,
          5.025,
          5.534,
          6.834,
          5.045,
          5.716,
          5.813,
          3.467,
          6.33,
          5.266,
          4.834,
          3.775,
          4.83,
          5.142,
          7.103,
          4.355,
          6.172,
          5.339,
          6.012,
          4.289,
          7.069,
          5.306,
          5.882,
          6.223,
          6.965,
          7.62,
          5.545,
          5.764,
          4.283,
          6.061,
          6.189,
          4.275,
          7.842,
          6.69,
          4.852,
          4.891,
          7.155,
          5.088,
          5.723,
          6.435,
          4.984,
          3.615,
          5.919,
          5.992,
          7.554,
          3.819,
          5.345,
          4.721,
          4.854,
          7.157,
          6.483,
          6.309,
          5.94,
          4.395,
          6.152,
          4.607,
          6.106,
          5.744,
          5.03,
          6.032,
          4.584,
          3.512,
          4.625,
          5.41,
          6.255,
          7.324,
          4.208,
          3.6,
          5.384,
          5.198,
          4.723,
          6.602,
          4.227,
          6.049,
          6.317,
          5.677,
          5.581,
          4.918,
          4.794,
          4.426,
          4.574,
          5.269,
          7.464,
          7.277,
          5.972,
          5.074,
          4.759,
          5.101,
          7.392,
          4.934,
          6.18,
          5.653,
          5.84,
          5.88,
          6.166,
          5.929,
          5.845,
          5.766,
          6.14,
          5.477,
          3.415,
          6.494,
          5.132,
          6.078,
          3.849,
          6.377,
          6.331,
          6.461,
          4.956,
          6.491,
          4.325,
          7.363,
          7.571,
          5.466,
          5.985,
          4.107,
          4.596,
          4.948,
          5.066,
          4.636,
          4.875,
          6.561,
          7.064,
          3.623,
          6.951,
          6.431,
          6.179,
          4.892,
          5.411,
          3.658,
          4.073,
          3.145
         ]
        },
        {
         "colorbar": {
          "title": {
           "text": "Average Completion Rate"
          }
         },
         "colorscale": [
          [
           0,
           "rgb(165,0,38)"
          ],
          [
           0.1,
           "rgb(215,48,39)"
          ],
          [
           0.2,
           "rgb(244,109,67)"
          ],
          [
           0.3,
           "rgb(253,174,97)"
          ],
          [
           0.4,
           "rgb(254,224,139)"
          ],
          [
           0.5,
           "rgb(255,255,191)"
          ],
          [
           0.6,
           "rgb(217,239,139)"
          ],
          [
           0.7,
           "rgb(166,217,106)"
          ],
          [
           0.8,
           "rgb(102,189,99)"
          ],
          [
           0.9,
           "rgb(26,152,80)"
          ],
          [
           1,
           "rgb(0,104,55)"
          ]
         ],
         "locationmode": "country names",
         "locations": [
          "Afghanistan",
          "Albania",
          "Algeria",
          "Argentina",
          "Armenia",
          "Bangladesh",
          "Belarus",
          "Benin",
          "Bosnia and Herzegovina",
          "Botswana",
          "Brazil",
          "Burkina Faso",
          "Burundi",
          "Cambodia",
          "Cameroon",
          "Chad",
          "Chile",
          "China",
          "Colombia",
          "Comoros",
          "Costa Rica",
          "Ivory Coast",
          "Dominican Republic",
          "Ecuador",
          "Egypt",
          "El Salvador",
          "Ethiopia",
          "Gabon",
          "Georgia",
          "Ghana",
          "Guatemala",
          "Guinea",
          "Haiti",
          "Honduras",
          "India",
          "Indonesia",
          "Iraq",
          "Jamaica",
          "Jordan",
          "Kazakhstan",
          "Kenya",
          "Kyrgyzstan",
          "Laos",
          "Lesotho",
          "Liberia",
          "Madagascar",
          "Malawi",
          "Mali",
          "Mauritania",
          "Mexico",
          "Mongolia",
          "Montenegro",
          "Mozambique",
          "Myanmar",
          "Namibia",
          "Nepal",
          "Niger",
          "Nigeria",
          "North Macedonia",
          "Pakistan",
          "Panama",
          "Paraguay",
          "Peru",
          "Philippines",
          "Moldova",
          "Rwanda",
          "Senegal",
          "Serbia",
          "Sierra Leone",
          "South Africa",
          "Sri Lanka",
          "Tajikistan",
          "Thailand",
          "Togo",
          "Tunisia",
          "Turkey",
          "Turkmenistan",
          "Uganda",
          "Ukraine",
          "Tanzania",
          "Uruguay",
          "Vietnam",
          "Yemen",
          "Zambia",
          "Zimbabwe"
         ],
         "type": "choropleth",
         "visible": false,
         "z": [
          30,
          87.5,
          43,
          62,
          85.5,
          47,
          96,
          13.5,
          94,
          76,
          77.5,
          6.5,
          13,
          29.5,
          35.5,
          12,
          90,
          79,
          75,
          36.5,
          65.5,
          22,
          69.5,
          84,
          61,
          54,
          16.5,
          23,
          89,
          28.5,
          37,
          21.5,
          25.5,
          40,
          61.5,
          50,
          45,
          89,
          71,
          97.5,
          52.5,
          93,
          42.5,
          38,
          19.5,
          21,
          18,
          23.5,
          36.5,
          73,
          78,
          90.5,
          9.5,
          30.5,
          45,
          50,
          4.5,
          56,
          88,
          36.5,
          70,
          71.5,
          78.5,
          79.5,
          81.5,
          22.5,
          19.5,
          87.5,
          33.5,
          68,
          66,
          82.5,
          76,
          34,
          61,
          70.5,
          96.5,
          20.5,
          98,
          29,
          54,
          69.5,
          38.5,
          40.5,
          32
         ]
        },
        {
         "colorbar": {
          "title": {
           "text": "Average OOSR"
          }
         },
         "colorscale": [
          [
           0,
           "rgb(0,104,55)"
          ],
          [
           0.1,
           "rgb(26,152,80)"
          ],
          [
           0.2,
           "rgb(102,189,99)"
          ],
          [
           0.3,
           "rgb(166,217,106)"
          ],
          [
           0.4,
           "rgb(217,239,139)"
          ],
          [
           0.5,
           "rgb(255,255,191)"
          ],
          [
           0.6,
           "rgb(254,224,139)"
          ],
          [
           0.7,
           "rgb(253,174,97)"
          ],
          [
           0.8,
           "rgb(244,109,67)"
          ],
          [
           0.9,
           "rgb(215,48,39)"
          ],
          [
           1,
           "rgb(165,0,38)"
          ]
         ],
         "locationmode": "country names",
         "locations": [
          "Afghanistan",
          "Albania",
          "Argentina",
          "Armenia",
          "Australia",
          "Austria",
          "Bahrain",
          "Bangladesh",
          "Belarus",
          "Belgium",
          "Benin",
          "Bolivia",
          "Bosnia and Herzegovina",
          "Brazil",
          "Bulgaria",
          "Burkina Faso",
          "Burundi",
          "Cambodia",
          "Cameroon",
          "Canada",
          "Chad",
          "Chile",
          "Colombia",
          "Comoros",
          "Costa Rica",
          "Ivory Coast",
          "Croatia",
          "Cyprus",
          "Czech Republic",
          "Denmark",
          "Dominican Republic",
          "Ecuador",
          "Egypt",
          "El Salvador",
          "Estonia",
          "Ethiopia",
          "Finland",
          "France",
          "Georgia",
          "Germany",
          "Ghana",
          "Greece",
          "Guatemala",
          "Guinea",
          "Honduras",
          "Hungary",
          "Iceland",
          "India",
          "Indonesia",
          "Iran",
          "Italy",
          "Jamaica",
          "Jordan",
          "Kuwait",
          "Kyrgyzstan",
          "Laos",
          "Latvia",
          "Lesotho",
          "Liberia",
          "Lithuania",
          "Luxembourg",
          "Madagascar",
          "Malawi",
          "Malaysia",
          "Mali",
          "Malta",
          "Mauritania",
          "Mauritius",
          "Mexico",
          "Mongolia",
          "Montenegro",
          "Morocco",
          "Mozambique",
          "Myanmar",
          "Nepal",
          "Netherlands",
          "New Zealand",
          "Niger",
          "Norway",
          "Panama",
          "Paraguay",
          "Peru",
          "Philippines",
          "Poland",
          "Portugal",
          "South Korea",
          "Moldova",
          "Romania",
          "Russia",
          "Rwanda",
          "Saudi Arabia",
          "Serbia",
          "Sierra Leone",
          "Slovakia",
          "Slovenia",
          "South Africa",
          "Spain",
          "Sri Lanka",
          "Sweden",
          "Switzerland",
          "Thailand",
          "Togo",
          "Turkey",
          "Ukraine",
          "United Arab Emirates",
          "United Kingdom",
          "Tanzania",
          "United States",
          "Uruguay",
          "Uzbekistan",
          "Venezuela",
          "Yemen",
          "Zimbabwe"
         ],
         "type": "choropleth",
         "visible": false,
         "z": [
          28,
          10.5,
          5,
          9.5,
          5,
          4.5,
          7.5,
          19,
          2.5,
          1,
          45,
          17.5,
          10,
          8.5,
          12,
          55.5,
          48.5,
          6.5,
          45,
          3,
          70,
          5,
          13,
          34.5,
          4,
          51,
          7.5,
          4.5,
          2,
          5,
          13.5,
          11.5,
          13,
          25.5,
          1,
          60.5,
          2,
          2.5,
          3.5,
          9.5,
          19,
          4,
          45.5,
          59.5,
          46.5,
          7,
          6.5,
          31,
          19.5,
          15,
          3.5,
          20.5,
          37,
          12,
          15,
          35.5,
          2.5,
          25,
          23,
          1.5,
          12,
          46.5,
          43.5,
          25,
          63.5,
          5,
          44.5,
          12.5,
          16.5,
          14,
          9,
          18.5,
          56,
          31.5,
          11,
          1.5,
          1.5,
          75.5,
          4,
          22.5,
          15.5,
          10.5,
          15.5,
          2.5,
          1.5,
          3,
          25,
          14.5,
          2,
          26.5,
          3.5,
          7,
          57,
          8,
          1.5,
          17.5,
          1,
          7.5,
          0.5,
          9,
          10,
          39,
          11.5,
          4,
          2,
          3,
          43,
          2.5,
          6,
          7.5,
          18.5,
          42.5,
          23.5
         ]
        },
        {
         "colorbar": {
          "title": {
           "text": "Proficiency in Reading"
          }
         },
         "colorscale": [
          [
           0,
           "rgb(165,0,38)"
          ],
          [
           0.1,
           "rgb(215,48,39)"
          ],
          [
           0.2,
           "rgb(244,109,67)"
          ],
          [
           0.3,
           "rgb(253,174,97)"
          ],
          [
           0.4,
           "rgb(254,224,139)"
          ],
          [
           0.5,
           "rgb(255,255,191)"
          ],
          [
           0.6,
           "rgb(217,239,139)"
          ],
          [
           0.7,
           "rgb(166,217,106)"
          ],
          [
           0.8,
           "rgb(102,189,99)"
          ],
          [
           0.9,
           "rgb(26,152,80)"
          ],
          [
           1,
           "rgb(0,104,55)"
          ]
         ],
         "locationmode": "country names",
         "locations": [
          "Albania",
          "Algeria",
          "Argentina",
          "Australia",
          "Austria",
          "Bangladesh",
          "Belarus",
          "Belgium",
          "Bosnia and Herzegovina",
          "Brazil",
          "Bulgaria",
          "Cambodia",
          "Canada",
          "Chile",
          "China",
          "Colombia",
          "Costa Rica",
          "Croatia",
          "Cyprus",
          "Czech Republic",
          "Denmark",
          "Dominican Republic",
          "Ecuador",
          "Estonia",
          "Finland",
          "France",
          "Georgia",
          "Germany",
          "Greece",
          "Guatemala",
          "Honduras",
          "Hungary",
          "Iceland",
          "Indonesia",
          "Israel",
          "Italy",
          "Japan",
          "Jordan",
          "Kazakhstan",
          "Latvia",
          "Lebanon",
          "Lithuania",
          "Luxembourg",
          "Malaysia",
          "Malta",
          "Mexico",
          "Montenegro",
          "Morocco",
          "Netherlands",
          "New Zealand",
          "North Macedonia",
          "Norway",
          "Panama",
          "Paraguay",
          "Peru",
          "Philippines",
          "Poland",
          "Portugal",
          "South Korea",
          "Moldova",
          "Romania",
          "Russia",
          "Saudi Arabia",
          "Senegal",
          "Serbia",
          "Singapore",
          "Slovakia",
          "Slovenia",
          "Spain",
          "Sweden",
          "Switzerland",
          "Thailand",
          "Tunisia",
          "Turkey",
          "Ukraine",
          "United Arab Emirates",
          "United Kingdom",
          "United States",
          "Uruguay",
          "Vietnam",
          "Zambia"
         ],
         "type": "choropleth",
         "visible": false,
         "z": [
          48,
          21,
          48,
          80,
          76,
          54,
          77,
          79,
          46,
          50,
          53,
          8,
          86,
          68,
          80,
          50,
          58,
          78,
          56,
          79,
          84,
          21,
          49,
          89,
          86,
          79,
          36,
          79,
          69,
          30,
          30,
          75,
          74,
          30,
          69,
          77,
          83,
          59,
          36,
          78,
          32,
          76,
          71,
          54,
          64,
          55,
          56,
          27,
          76,
          81,
          45,
          81,
          36,
          32,
          46,
          19,
          85,
          80,
          85,
          57,
          59,
          78,
          48,
          9,
          62,
          89,
          69,
          82,
          84,
          82,
          76,
          40,
          28,
          74,
          74,
          57,
          83,
          81,
          58,
          86,
          5
         ]
        },
        {
         "colorbar": {
          "title": {
           "text": "Proficiency in Math"
          }
         },
         "colorscale": [
          [
           0,
           "rgb(165,0,38)"
          ],
          [
           0.1,
           "rgb(215,48,39)"
          ],
          [
           0.2,
           "rgb(244,109,67)"
          ],
          [
           0.3,
           "rgb(253,174,97)"
          ],
          [
           0.4,
           "rgb(254,224,139)"
          ],
          [
           0.5,
           "rgb(255,255,191)"
          ],
          [
           0.6,
           "rgb(217,239,139)"
          ],
          [
           0.7,
           "rgb(166,217,106)"
          ],
          [
           0.8,
           "rgb(102,189,99)"
          ],
          [
           0.9,
           "rgb(26,152,80)"
          ],
          [
           1,
           "rgb(0,104,55)"
          ]
         ],
         "locationmode": "country names",
         "locations": [
          "Albania",
          "Algeria",
          "Argentina",
          "Armenia",
          "Australia",
          "Austria",
          "Bahrain",
          "Bangladesh",
          "Belarus",
          "Belgium",
          "Bosnia and Herzegovina",
          "Brazil",
          "Bulgaria",
          "Cambodia",
          "Canada",
          "Chile",
          "China",
          "Colombia",
          "Costa Rica",
          "Croatia",
          "Cyprus",
          "Czech Republic",
          "Denmark",
          "Dominican Republic",
          "Ecuador",
          "Egypt",
          "Estonia",
          "Finland",
          "France",
          "Georgia",
          "Germany",
          "Greece",
          "Guatemala",
          "Honduras",
          "Hungary",
          "Iceland",
          "Indonesia",
          "Iran",
          "Israel",
          "Italy",
          "Japan",
          "Jordan",
          "Kazakhstan",
          "Kuwait",
          "Latvia",
          "Lebanon",
          "Lithuania",
          "Luxembourg",
          "Malaysia",
          "Malta",
          "Mexico",
          "Montenegro",
          "Morocco",
          "Netherlands",
          "New Zealand",
          "North Macedonia",
          "Norway",
          "Panama",
          "Paraguay",
          "Peru",
          "Philippines",
          "Poland",
          "Portugal",
          "South Korea",
          "Moldova",
          "Romania",
          "Russia",
          "Saudi Arabia",
          "Senegal",
          "Serbia",
          "Singapore",
          "Slovakia",
          "Slovenia",
          "Spain",
          "Sweden",
          "Switzerland",
          "Thailand",
          "Tunisia",
          "Turkey",
          "Ukraine",
          "United Arab Emirates",
          "United Kingdom",
          "United States",
          "Uruguay",
          "Vietnam",
          "Zambia"
         ],
         "type": "choropleth",
         "visible": false,
         "z": [
          58,
          19,
          31,
          50,
          78,
          79,
          39,
          57,
          71,
          80,
          42,
          32,
          56,
          10,
          84,
          28,
          79,
          35,
          40,
          69,
          63,
          80,
          85,
          9,
          29,
          21,
          90,
          85,
          79,
          39,
          79,
          64,
          11,
          15,
          67,
          79,
          28,
          34,
          66,
          62,
          89,
          41,
          51,
          18,
          83,
          35,
          74,
          73,
          59,
          62,
          44,
          54,
          14,
          84,
          78,
          39,
          81,
          19,
          8,
          40,
          19,
          85,
          77,
          85,
          50,
          53,
          78,
          11,
          8,
          60,
          94,
          75,
          84,
          75,
          81,
          83,
          47,
          25,
          42,
          64,
          46,
          81,
          73,
          49,
          81,
          2
         ]
        }
       ],
       "layout": {
        "template": {
         "data": {
          "bar": [
           {
            "error_x": {
             "color": "#2a3f5f"
            },
            "error_y": {
             "color": "#2a3f5f"
            },
            "marker": {
             "line": {
              "color": "#E5ECF6",
              "width": 0.5
             },
             "pattern": {
              "fillmode": "overlay",
              "size": 10,
              "solidity": 0.2
             }
            },
            "type": "bar"
           }
          ],
          "barpolar": [
           {
            "marker": {
             "line": {
              "color": "#E5ECF6",
              "width": 0.5
             },
             "pattern": {
              "fillmode": "overlay",
              "size": 10,
              "solidity": 0.2
             }
            },
            "type": "barpolar"
           }
          ],
          "carpet": [
           {
            "aaxis": {
             "endlinecolor": "#2a3f5f",
             "gridcolor": "white",
             "linecolor": "white",
             "minorgridcolor": "white",
             "startlinecolor": "#2a3f5f"
            },
            "baxis": {
             "endlinecolor": "#2a3f5f",
             "gridcolor": "white",
             "linecolor": "white",
             "minorgridcolor": "white",
             "startlinecolor": "#2a3f5f"
            },
            "type": "carpet"
           }
          ],
          "choropleth": [
           {
            "colorbar": {
             "outlinewidth": 0,
             "ticks": ""
            },
            "type": "choropleth"
           }
          ],
          "contour": [
           {
            "colorbar": {
             "outlinewidth": 0,
             "ticks": ""
            },
            "colorscale": [
             [
              0,
              "#0d0887"
             ],
             [
              0.1111111111111111,
              "#46039f"
             ],
             [
              0.2222222222222222,
              "#7201a8"
             ],
             [
              0.3333333333333333,
              "#9c179e"
             ],
             [
              0.4444444444444444,
              "#bd3786"
             ],
             [
              0.5555555555555556,
              "#d8576b"
             ],
             [
              0.6666666666666666,
              "#ed7953"
             ],
             [
              0.7777777777777778,
              "#fb9f3a"
             ],
             [
              0.8888888888888888,
              "#fdca26"
             ],
             [
              1,
              "#f0f921"
             ]
            ],
            "type": "contour"
           }
          ],
          "contourcarpet": [
           {
            "colorbar": {
             "outlinewidth": 0,
             "ticks": ""
            },
            "type": "contourcarpet"
           }
          ],
          "heatmap": [
           {
            "colorbar": {
             "outlinewidth": 0,
             "ticks": ""
            },
            "colorscale": [
             [
              0,
              "#0d0887"
             ],
             [
              0.1111111111111111,
              "#46039f"
             ],
             [
              0.2222222222222222,
              "#7201a8"
             ],
             [
              0.3333333333333333,
              "#9c179e"
             ],
             [
              0.4444444444444444,
              "#bd3786"
             ],
             [
              0.5555555555555556,
              "#d8576b"
             ],
             [
              0.6666666666666666,
              "#ed7953"
             ],
             [
              0.7777777777777778,
              "#fb9f3a"
             ],
             [
              0.8888888888888888,
              "#fdca26"
             ],
             [
              1,
              "#f0f921"
             ]
            ],
            "type": "heatmap"
           }
          ],
          "heatmapgl": [
           {
            "colorbar": {
             "outlinewidth": 0,
             "ticks": ""
            },
            "colorscale": [
             [
              0,
              "#0d0887"
             ],
             [
              0.1111111111111111,
              "#46039f"
             ],
             [
              0.2222222222222222,
              "#7201a8"
             ],
             [
              0.3333333333333333,
              "#9c179e"
             ],
             [
              0.4444444444444444,
              "#bd3786"
             ],
             [
              0.5555555555555556,
              "#d8576b"
             ],
             [
              0.6666666666666666,
              "#ed7953"
             ],
             [
              0.7777777777777778,
              "#fb9f3a"
             ],
             [
              0.8888888888888888,
              "#fdca26"
             ],
             [
              1,
              "#f0f921"
             ]
            ],
            "type": "heatmapgl"
           }
          ],
          "histogram": [
           {
            "marker": {
             "pattern": {
              "fillmode": "overlay",
              "size": 10,
              "solidity": 0.2
             }
            },
            "type": "histogram"
           }
          ],
          "histogram2d": [
           {
            "colorbar": {
             "outlinewidth": 0,
             "ticks": ""
            },
            "colorscale": [
             [
              0,
              "#0d0887"
             ],
             [
              0.1111111111111111,
              "#46039f"
             ],
             [
              0.2222222222222222,
              "#7201a8"
             ],
             [
              0.3333333333333333,
              "#9c179e"
             ],
             [
              0.4444444444444444,
              "#bd3786"
             ],
             [
              0.5555555555555556,
              "#d8576b"
             ],
             [
              0.6666666666666666,
              "#ed7953"
             ],
             [
              0.7777777777777778,
              "#fb9f3a"
             ],
             [
              0.8888888888888888,
              "#fdca26"
             ],
             [
              1,
              "#f0f921"
             ]
            ],
            "type": "histogram2d"
           }
          ],
          "histogram2dcontour": [
           {
            "colorbar": {
             "outlinewidth": 0,
             "ticks": ""
            },
            "colorscale": [
             [
              0,
              "#0d0887"
             ],
             [
              0.1111111111111111,
              "#46039f"
             ],
             [
              0.2222222222222222,
              "#7201a8"
             ],
             [
              0.3333333333333333,
              "#9c179e"
             ],
             [
              0.4444444444444444,
              "#bd3786"
             ],
             [
              0.5555555555555556,
              "#d8576b"
             ],
             [
              0.6666666666666666,
              "#ed7953"
             ],
             [
              0.7777777777777778,
              "#fb9f3a"
             ],
             [
              0.8888888888888888,
              "#fdca26"
             ],
             [
              1,
              "#f0f921"
             ]
            ],
            "type": "histogram2dcontour"
           }
          ],
          "mesh3d": [
           {
            "colorbar": {
             "outlinewidth": 0,
             "ticks": ""
            },
            "type": "mesh3d"
           }
          ],
          "parcoords": [
           {
            "line": {
             "colorbar": {
              "outlinewidth": 0,
              "ticks": ""
             }
            },
            "type": "parcoords"
           }
          ],
          "pie": [
           {
            "automargin": true,
            "type": "pie"
           }
          ],
          "scatter": [
           {
            "fillpattern": {
             "fillmode": "overlay",
             "size": 10,
             "solidity": 0.2
            },
            "type": "scatter"
           }
          ],
          "scatter3d": [
           {
            "line": {
             "colorbar": {
              "outlinewidth": 0,
              "ticks": ""
             }
            },
            "marker": {
             "colorbar": {
              "outlinewidth": 0,
              "ticks": ""
             }
            },
            "type": "scatter3d"
           }
          ],
          "scattercarpet": [
           {
            "marker": {
             "colorbar": {
              "outlinewidth": 0,
              "ticks": ""
             }
            },
            "type": "scattercarpet"
           }
          ],
          "scattergeo": [
           {
            "marker": {
             "colorbar": {
              "outlinewidth": 0,
              "ticks": ""
             }
            },
            "type": "scattergeo"
           }
          ],
          "scattergl": [
           {
            "marker": {
             "colorbar": {
              "outlinewidth": 0,
              "ticks": ""
             }
            },
            "type": "scattergl"
           }
          ],
          "scattermapbox": [
           {
            "marker": {
             "colorbar": {
              "outlinewidth": 0,
              "ticks": ""
             }
            },
            "type": "scattermapbox"
           }
          ],
          "scatterpolar": [
           {
            "marker": {
             "colorbar": {
              "outlinewidth": 0,
              "ticks": ""
             }
            },
            "type": "scatterpolar"
           }
          ],
          "scatterpolargl": [
           {
            "marker": {
             "colorbar": {
              "outlinewidth": 0,
              "ticks": ""
             }
            },
            "type": "scatterpolargl"
           }
          ],
          "scatterternary": [
           {
            "marker": {
             "colorbar": {
              "outlinewidth": 0,
              "ticks": ""
             }
            },
            "type": "scatterternary"
           }
          ],
          "surface": [
           {
            "colorbar": {
             "outlinewidth": 0,
             "ticks": ""
            },
            "colorscale": [
             [
              0,
              "#0d0887"
             ],
             [
              0.1111111111111111,
              "#46039f"
             ],
             [
              0.2222222222222222,
              "#7201a8"
             ],
             [
              0.3333333333333333,
              "#9c179e"
             ],
             [
              0.4444444444444444,
              "#bd3786"
             ],
             [
              0.5555555555555556,
              "#d8576b"
             ],
             [
              0.6666666666666666,
              "#ed7953"
             ],
             [
              0.7777777777777778,
              "#fb9f3a"
             ],
             [
              0.8888888888888888,
              "#fdca26"
             ],
             [
              1,
              "#f0f921"
             ]
            ],
            "type": "surface"
           }
          ],
          "table": [
           {
            "cells": {
             "fill": {
              "color": "#EBF0F8"
             },
             "line": {
              "color": "white"
             }
            },
            "header": {
             "fill": {
              "color": "#C8D4E3"
             },
             "line": {
              "color": "white"
             }
            },
            "type": "table"
           }
          ]
         },
         "layout": {
          "annotationdefaults": {
           "arrowcolor": "#2a3f5f",
           "arrowhead": 0,
           "arrowwidth": 1
          },
          "autotypenumbers": "strict",
          "coloraxis": {
           "colorbar": {
            "outlinewidth": 0,
            "ticks": ""
           }
          },
          "colorscale": {
           "diverging": [
            [
             0,
             "#8e0152"
            ],
            [
             0.1,
             "#c51b7d"
            ],
            [
             0.2,
             "#de77ae"
            ],
            [
             0.3,
             "#f1b6da"
            ],
            [
             0.4,
             "#fde0ef"
            ],
            [
             0.5,
             "#f7f7f7"
            ],
            [
             0.6,
             "#e6f5d0"
            ],
            [
             0.7,
             "#b8e186"
            ],
            [
             0.8,
             "#7fbc41"
            ],
            [
             0.9,
             "#4d9221"
            ],
            [
             1,
             "#276419"
            ]
           ],
           "sequential": [
            [
             0,
             "#0d0887"
            ],
            [
             0.1111111111111111,
             "#46039f"
            ],
            [
             0.2222222222222222,
             "#7201a8"
            ],
            [
             0.3333333333333333,
             "#9c179e"
            ],
            [
             0.4444444444444444,
             "#bd3786"
            ],
            [
             0.5555555555555556,
             "#d8576b"
            ],
            [
             0.6666666666666666,
             "#ed7953"
            ],
            [
             0.7777777777777778,
             "#fb9f3a"
            ],
            [
             0.8888888888888888,
             "#fdca26"
            ],
            [
             1,
             "#f0f921"
            ]
           ],
           "sequentialminus": [
            [
             0,
             "#0d0887"
            ],
            [
             0.1111111111111111,
             "#46039f"
            ],
            [
             0.2222222222222222,
             "#7201a8"
            ],
            [
             0.3333333333333333,
             "#9c179e"
            ],
            [
             0.4444444444444444,
             "#bd3786"
            ],
            [
             0.5555555555555556,
             "#d8576b"
            ],
            [
             0.6666666666666666,
             "#ed7953"
            ],
            [
             0.7777777777777778,
             "#fb9f3a"
            ],
            [
             0.8888888888888888,
             "#fdca26"
            ],
            [
             1,
             "#f0f921"
            ]
           ]
          },
          "colorway": [
           "#636efa",
           "#EF553B",
           "#00cc96",
           "#ab63fa",
           "#FFA15A",
           "#19d3f3",
           "#FF6692",
           "#B6E880",
           "#FF97FF",
           "#FECB52"
          ],
          "font": {
           "color": "#2a3f5f"
          },
          "geo": {
           "bgcolor": "white",
           "lakecolor": "white",
           "landcolor": "#E5ECF6",
           "showlakes": true,
           "showland": true,
           "subunitcolor": "white"
          },
          "hoverlabel": {
           "align": "left"
          },
          "hovermode": "closest",
          "mapbox": {
           "style": "light"
          },
          "paper_bgcolor": "white",
          "plot_bgcolor": "#E5ECF6",
          "polar": {
           "angularaxis": {
            "gridcolor": "white",
            "linecolor": "white",
            "ticks": ""
           },
           "bgcolor": "#E5ECF6",
           "radialaxis": {
            "gridcolor": "white",
            "linecolor": "white",
            "ticks": ""
           }
          },
          "scene": {
           "xaxis": {
            "backgroundcolor": "#E5ECF6",
            "gridcolor": "white",
            "gridwidth": 2,
            "linecolor": "white",
            "showbackground": true,
            "ticks": "",
            "zerolinecolor": "white"
           },
           "yaxis": {
            "backgroundcolor": "#E5ECF6",
            "gridcolor": "white",
            "gridwidth": 2,
            "linecolor": "white",
            "showbackground": true,
            "ticks": "",
            "zerolinecolor": "white"
           },
           "zaxis": {
            "backgroundcolor": "#E5ECF6",
            "gridcolor": "white",
            "gridwidth": 2,
            "linecolor": "white",
            "showbackground": true,
            "ticks": "",
            "zerolinecolor": "white"
           }
          },
          "shapedefaults": {
           "line": {
            "color": "#2a3f5f"
           }
          },
          "ternary": {
           "aaxis": {
            "gridcolor": "white",
            "linecolor": "white",
            "ticks": ""
           },
           "baxis": {
            "gridcolor": "white",
            "linecolor": "white",
            "ticks": ""
           },
           "bgcolor": "#E5ECF6",
           "caxis": {
            "gridcolor": "white",
            "linecolor": "white",
            "ticks": ""
           }
          },
          "title": {
           "x": 0.05
          },
          "xaxis": {
           "automargin": true,
           "gridcolor": "white",
           "linecolor": "white",
           "ticks": "",
           "title": {
            "standoff": 15
           },
           "zerolinecolor": "white",
           "zerolinewidth": 2
          },
          "yaxis": {
           "automargin": true,
           "gridcolor": "white",
           "linecolor": "white",
           "ticks": "",
           "title": {
            "standoff": 15
           },
           "zerolinecolor": "white",
           "zerolinewidth": 2
          }
         }
        },
        "title": {
         "text": "World Maps with Dropdown"
        },
        "updatemenus": [
         {
          "buttons": [
           {
            "args": [
             {
              "visible": [
               true,
               false,
               false,
               false,
               false
              ]
             },
             {
              "title": "World Happiness Ladder Score by Country"
             }
            ],
            "label": "Ladder score",
            "method": "update"
           },
           {
            "args": [
             {
              "visible": [
               false,
               true,
               false,
               false,
               false
              ]
             },
             {
              "title": "Average Completion Rate by Country"
             }
            ],
            "label": "Average Completion Rate",
            "method": "update"
           },
           {
            "args": [
             {
              "visible": [
               false,
               false,
               true,
               false,
               false
              ]
             },
             {
              "title": "Average Out of School Rate (OOSR) by Country"
             }
            ],
            "label": "Average OOSR",
            "method": "update"
           },
           {
            "args": [
             {
              "visible": [
               false,
               false,
               false,
               true,
               false
              ]
             },
             {
              "title": "Lower Secondary End Proficiency in Reading by Country"
             }
            ],
            "label": "Proficiency in Reading",
            "method": "update"
           },
           {
            "args": [
             {
              "visible": [
               false,
               false,
               false,
               false,
               true
              ]
             },
             {
              "title": "Lower Secondary End Proficiency in Math by Country"
             }
            ],
            "label": "Proficiency in Math",
            "method": "update"
           }
          ],
          "direction": "down",
          "showactive": true
         }
        ]
       }
      }
     },
     "metadata": {},
     "output_type": "display_data"
    }
   ],
   "source": [
    "import pandas as pd\n",
    "import plotly.graph_objects as go\n",
    "\n",
    "\n",
    "\n",
    "# Calculate additional columns needed\n",
    "df['Average_Completion_Rate'] = (df['Average_Completion_Rate_Male'] + df['Average_Completion_Rate_Female']) / 2\n",
    "df['Average_OOSR'] = (df['Average_OOSR_Male'] + df['Average_OOSR_Female']) / 2\n",
    "\n",
    "# Create a combined world map plot with a dropdown menu for different variables\n",
    "fig = go.Figure()\n",
    "\n",
    "# Add traces for each variable\n",
    "# Ladder score plot\n",
    "fig.add_trace(go.Choropleth(\n",
    "    locations=df['Country'],\n",
    "    locationmode='country names',\n",
    "    z=df['Ladder score'],\n",
    "    colorscale='RdYlGn',\n",
    "    colorbar_title='Ladder score',\n",
    "    visible=True\n",
    "))\n",
    "\n",
    "# Average Completion Rate plot\n",
    "fig.add_trace(go.Choropleth(\n",
    "    locations=df[df['Average_Completion_Rate'] > 0]['Country'],\n",
    "    locationmode='country names',\n",
    "    z=df[df['Average_Completion_Rate'] > 0]['Average_Completion_Rate'],\n",
    "    colorscale='RdYlGn',\n",
    "    colorbar_title='Average Completion Rate',\n",
    "    visible=False\n",
    "))\n",
    "\n",
    "# Average OOSR plot\n",
    "fig.add_trace(go.Choropleth(\n",
    "    locations=df[df['Average_OOSR'] > 0]['Country'],\n",
    "    locationmode='country names',\n",
    "    z=df[df['Average_OOSR'] > 0]['Average_OOSR'],\n",
    "    colorscale='RdYlGn_r',\n",
    "    colorbar_title='Average OOSR',\n",
    "    visible=False\n",
    "))\n",
    "\n",
    "# Lower Secondary End Proficiency in Reading plot\n",
    "fig.add_trace(go.Choropleth(\n",
    "    locations=df[df['Lower_Secondary_End_Proficiency_Reading'] > 0]['Country'],\n",
    "    locationmode='country names',\n",
    "    z=df[df['Lower_Secondary_End_Proficiency_Reading'] > 0]['Lower_Secondary_End_Proficiency_Reading'],\n",
    "    colorscale='RdYlGn',\n",
    "    colorbar_title='Proficiency in Reading',\n",
    "    visible=False\n",
    "))\n",
    "\n",
    "# Lower Secondary End Proficiency in Math plot\n",
    "fig.add_trace(go.Choropleth(\n",
    "    locations=df[df['Lower_Secondary_End_Proficiency_Math'] > 0]['Country'],\n",
    "    locationmode='country names',\n",
    "    z=df[df['Lower_Secondary_End_Proficiency_Math'] > 0]['Lower_Secondary_End_Proficiency_Math'],\n",
    "    colorscale='RdYlGn',\n",
    "    colorbar_title='Proficiency in Math',\n",
    "    visible=False\n",
    "))\n",
    "\n",
    "# Create dropdown\n",
    "dropdown_buttons = [\n",
    "    {'label': 'Ladder score', 'method': 'update', 'args': [{'visible': [True, False, False, False, False]}, {'title': 'World Happiness Ladder Score by Country'}]},\n",
    "    {'label': 'Average Completion Rate', 'method': 'update', 'args': [{'visible': [False, True, False, False, False]}, {'title': 'Average Completion Rate by Country'}]},\n",
    "    {'label': 'Average OOSR', 'method': 'update', 'args': [{'visible': [False, False, True, False, False]}, {'title': 'Average Out of School Rate (OOSR) by Country'}]},\n",
    "    {'label': 'Proficiency in Reading', 'method': 'update', 'args': [{'visible': [False, False, False, True, False]}, {'title': 'Lower Secondary End Proficiency in Reading by Country'}]},\n",
    "    {'label': 'Proficiency in Math', 'method': 'update', 'args': [{'visible': [False, False, False, False, True]}, {'title': 'Lower Secondary End Proficiency in Math by Country'}]},\n",
    "]\n",
    "\n",
    "# Update layout with dropdown\n",
    "fig.update_layout(\n",
    "    updatemenus=[{\n",
    "        'buttons': dropdown_buttons,\n",
    "        'direction': 'down',\n",
    "        'showactive': True,\n",
    "    }],\n",
    "    title_text='World Maps with Dropdown'\n",
    ")\n",
    "\n",
    "# Display the interactive plot\n",
    "fig.show()\n",
    "\n"
   ]
  },
  {
   "cell_type": "markdown",
   "id": "80633dca-039a-4041-bd31-135ef7eef52c",
   "metadata": {},
   "source": [
    "> *Figure 6: Vivamus elementum semper nisi. Aenean vulputate eleifend tellus. Aenean leo ligula, porttitor eu, consequat vitae, eleifend ac, enim. Aliquam lorem ante, dapibus in, viverra quis, feugiat a, tellus.*"
   ]
  },
  {
   "cell_type": "markdown",
   "id": "6597f462",
   "metadata": {},
   "source": [
    "Deze visualization nog niet af!"
   ]
  },
  {
   "cell_type": "code",
   "execution_count": 23,
   "id": "38909a70",
   "metadata": {},
   "outputs": [
    {
     "data": {
      "application/vnd.jupyter.widget-view+json": {
       "model_id": "e6ca3db2089b46a3a6dac5716af1edc1",
       "version_major": 2,
       "version_minor": 0
      },
      "text/plain": [
       "Dropdown(description='Country:', options=('Afghanistan', 'Albania', 'Algeria', 'Argentina', 'Armenia', 'Austra…"
      ]
     },
     "metadata": {},
     "output_type": "display_data"
    },
    {
     "data": {
      "image/png": "[encoded data removed]",
      "text/plain": [
       "<Figure size 600x600 with 1 Axes>"
      ]
     },
     "metadata": {},
     "output_type": "display_data"
    }
   ],
   "source": [
    "import pandas as pd\n",
    "import numpy as np\n",
    "import matplotlib.pyplot as plt\n",
    "from sklearn.preprocessing import MinMaxScaler\n",
    "from IPython.display import display\n",
    "import ipywidgets as widgets\n",
    "\n",
    "# Load the dataset\n",
    "file_path = 'filtered_global_education_world_happiness_average.csv'\n",
    "data = pd.read_csv(file_path)\n",
    "\n",
    "# Calculate average values for OOSR and Completion Rate\n",
    "data['Average_OOSR'] = data[['Average_OOSR_Male', 'Average_OOSR_Female']].mean(axis=1)\n",
    "data['Average_Completion_Rate'] = data[['Average_Completion_Rate_Male', 'Average_Completion_Rate_Female']].mean(axis=1)\n",
    "\n",
    "# Select relevant columns for the radar chart\n",
    "radar_data = data[['Country', 'Average_OOSR', 'Average_Completion_Rate',\n",
    "                   'Lower_Secondary_End_Proficiency_Reading', 'Lower_Secondary_End_Proficiency_Math',\n",
    "                   'Ladder score', 'Logged GDP per capita', 'Social support',\n",
    "                   'Healthy life expectancy', 'Freedom to make life choices']]\n",
    "\n",
    "# Normalize the data for radar chart\n",
    "scaler = MinMaxScaler()\n",
    "radar_data_normalized = radar_data.copy()\n",
    "radar_data_normalized.iloc[:, 1:] = scaler.fit_transform(radar_data.iloc[:, 1:])\n",
    "\n",
    "# Function to create radar chart\n",
    "def create_radar_chart(country):\n",
    "    labels = radar_data_normalized.columns[1:]\n",
    "    num_vars = len(labels)\n",
    "    \n",
    "    # Create a 360 degree circle\n",
    "    angles = np.linspace(0, 2 * np.pi, num_vars, endpoint=False).tolist()\n",
    "    \n",
    "    # The radar chart is circular, so we need to \"complete the loop\" and append the start to the end.\n",
    "    angles += angles[:1]\n",
    "    \n",
    "    # Select the data for the chosen country\n",
    "    values = radar_data_normalized[radar_data_normalized['Country'] == country].iloc[0, 1:].tolist()\n",
    "    values += values[:1]\n",
    "    \n",
    "    fig, ax = plt.subplots(figsize=(6, 6), subplot_kw=dict(polar=True))\n",
    "    \n",
    "    ax.fill(angles, values, color='blue', alpha=0.25)\n",
    "    ax.plot(angles, values, color='blue', linewidth=2)\n",
    "    \n",
    "    ax.set_yticklabels([])\n",
    "    ax.set_xticks(angles[:-1])\n",
    "    ax.set_xticklabels(labels)\n",
    "    \n",
    "    ax.set_title(f'Radar Chart for {country}', size=15, color='blue', y=1.1)\n",
    "    \n",
    "    plt.show()\n",
    "\n",
    "# Dropdown menu to select country\n",
    "countries = radar_data_normalized['Country'].unique()\n",
    "\n",
    "country_dropdown = widgets.Dropdown(\n",
    "    options=countries,\n",
    "    description='Country:',\n",
    "    disabled=False,\n",
    ")\n",
    "\n",
    "def on_change(change):\n",
    "    if change['type'] == 'change' and change['name'] == 'value':\n",
    "        create_radar_chart(change['new'])\n",
    "\n",
    "country_dropdown.observe(on_change)\n",
    "\n",
    "display(country_dropdown)\n",
    "\n",
    "# Generate the initial radar chart\n",
    "create_radar_chart(countries[0])\n"
   ]
  },
  {
   "cell_type": "code",
   "execution_count": null,
   "id": "c529cd5c",
   "metadata": {},
   "outputs": [],
   "source": []
  },
  {
   "cell_type": "markdown",
   "id": "921df77f",
   "metadata": {},
   "source": [
    "## Reflection\n",
    "\n",
    "Curabitur non lacus ex. Maecenas at massa ultricies justo venenatis condimentum sed et eros. Ut vitae iaculis massa. Aenean vitae sagittis nibh. Aliquam pharetra dui suscipit purus dictum rutrum. Donec ultricies odio quis porttitor aliquet. Fusce sed nisl non velit rutrum commodo nec sed magna. Morbi non volutpat mi, cursus pulvinar dolor.\n",
    "\n",
    "Nam sit amet volutpat sapien. Aenean eu mattis neque. Maecenas eget libero consequat, condimentum nulla luctus, fermentum lectus. Donec at enim sit amet dolor vestibulum faucibus. Vestibulum velit elit, faucibus ut mi sit amet, mollis rutrum eros. Ut ut lacinia ante, eu placerat ligula. Fusce quis convallis purus. Maecenas eget fringilla quam.\n",
    "\n",
    "Proin ac sapien et lectus tempor dignissim a at arcu. Donec placerat aliquet odio, vel aliquam nibh tempus vel. Pellentesque non velit iaculis, porta metus sed, dictum augue. Aenean tempus gravida ullamcorper. Proin cursus fringilla turpis. Integer id lectus dignissim, ultrices metus vel, dictum quam. Suspendisse augue ligula, vestibulum ac nulla a, porta pharetra leo. Integer et pharetra lacus, in porttitor mauris. Cras sodales metus sit amet enim rhoncus sodales. Etiam orci enim, tincidunt eget arcu vel, gravida scelerisque lacus."
   ]
  },
  {
   "cell_type": "markdown",
   "id": "8799e8f6",
   "metadata": {},
   "source": [
    "## Work Distribution\n",
    "\n",
    "Curabitur non lacus ex. Maecenas at massa ultricies justo venenatis condimentum sed et eros. Ut vitae iaculis massa. Aenean vitae sagittis nibh. Aliquam pharetra dui suscipit purus dictum rutrum. Donec ultricies odio quis porttitor aliquet. Fusce sed nisl non velit rutrum commodo nec sed magna. Morbi non volutpat mi, cursus pulvinar dolor.\n",
    "\n",
    "Nam sit amet volutpat sapien. Aenean eu mattis neque. Maecenas eget libero consequat, condimentum nulla luctus, fermentum lectus. Donec at enim sit amet dolor vestibulum faucibus. Vestibulum velit elit, faucibus ut mi sit amet, mollis rutrum eros. Ut ut lacinia ante, eu placerat ligula. Fusce quis convallis purus. Maecenas eget fringilla quam.\n",
    "\n",
    "Proin ac sapien et lectus tempor dignissim a at arcu. Donec placerat aliquet odio, vel aliquam nibh tempus vel. Pellentesque non velit iaculis, porta metus sed, dictum augue. Aenean tempus gravida ullamcorper. Proin cursus fringilla turpis. Integer id lectus dignissim, ultrices metus vel, dictum quam. Suspendisse augue ligula, vestibulum ac nulla a, porta pharetra leo. Integer et pharetra lacus, in porttitor mauris. Cras sodales metus sit amet enim rhoncus sodales. Etiam orci enim, tincidunt eget arcu vel, gravida scelerisque lacus."
   ]
  },
  {
   "cell_type": "markdown",
   "id": "8a61224c",
   "metadata": {},
   "source": [
    "## References\n",
    "\n",
    "Centraal Bureau voor de Statistiek. (2023). More strikes but fewer strikers in 2022. Statistics Netherlands. https://www.cbs.nl/en-gb/news/2023/18/more-strikes-but-fewer-strikers-in-2022"
   ]
  }
 ],
 "metadata": {
  "celltoolbar": "Tags",
  "kernelspec": {
   "display_name": "Python 3 (ipykernel)",
   "language": "python",
   "name": "python3"
  },
  "language_info": {
   "codemirror_mode": {
    "name": "ipython",
    "version": 3
   },
   "file_extension": ".py",
   "mimetype": "text/x-python",
   "name": "python",
   "nbconvert_exporter": "python",
   "pygments_lexer": "ipython3",
   "version": "3.12.3"
  },
  "widgets": {
   "application/vnd.jupyter.widget-state+json": {
    "state": {},
    "version_major": 2,
    "version_minor": 0
   }
  }
 },
 "nbformat": 4,
 "nbformat_minor": 5
}
